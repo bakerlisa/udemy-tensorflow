{
  "nbformat": 4,
  "nbformat_minor": 0,
  "metadata": {
    "colab": {
      "name": "notes_may_19.ipynb",
      "provenance": [],
      "authorship_tag": "ABX9TyNdc+tze+nIi/sqjaovZA9n",
      "include_colab_link": true
    },
    "kernelspec": {
      "name": "python3",
      "display_name": "Python 3"
    },
    "language_info": {
      "name": "python"
    }
  },
  "cells": [
    {
      "cell_type": "markdown",
      "metadata": {
        "id": "view-in-github",
        "colab_type": "text"
      },
      "source": [
        "<a href=\"https://colab.research.google.com/github/lisabroadhead/udemy-tensorflow/blob/main/notes_may_19.ipynb\" target=\"_parent\"><img src=\"https://colab.research.google.com/assets/colab-badge.svg\" alt=\"Open In Colab\"/></a>"
      ]
    },
    {
      "cell_type": "markdown",
      "source": [
        "# VD: 49 - continue"
      ],
      "metadata": {
        "id": "g1EOQtnkyY1M"
      }
    },
    {
      "cell_type": "code",
      "source": [
        "import tensorflow as tf"
      ],
      "metadata": {
        "id": "H-8WSUbPylR7"
      },
      "execution_count": 2,
      "outputs": []
    },
    {
      "cell_type": "code",
      "source": [
        "# Lets create a model which builds automically defining the input_shape by defining\n",
        "tf.random.set_seed(42)\n",
        "\n",
        "# 1. model\n",
        "model = tf.keras.Sequential(\n",
        "  tf.keras.layers.Dense(1,input_shape=[1])\n",
        ")\n",
        "\n",
        "# 2. compile\n",
        "model.compile(\n",
        "  loss=tf.keras.losses.mae,\n",
        "  optimizer = tf.keras.optimizers.SGD(),\n",
        "  metrics = ['mae']\n",
        ")\n",
        "\n",
        "# 3. fit\n"
      ],
      "metadata": {
        "id": "StcDETt9yfdO"
      },
      "execution_count": 8,
      "outputs": []
    },
    {
      "cell_type": "code",
      "source": [
        "model.summary()"
      ],
      "metadata": {
        "colab": {
          "base_uri": "https://localhost:8080/"
        },
        "id": "QhZp50PuzZzH",
        "outputId": "a9d58ead-50ad-4e4a-d510-6826fc2c8bcf"
      },
      "execution_count": 9,
      "outputs": [
        {
          "output_type": "stream",
          "name": "stdout",
          "text": [
            "Model: \"sequential_2\"\n",
            "_________________________________________________________________\n",
            " Layer (type)                Output Shape              Param #   \n",
            "=================================================================\n",
            " dense_3 (Dense)             (None, 1)                 2         \n",
            "                                                                 \n",
            "=================================================================\n",
            "Total params: 2\n",
            "Trainable params: 2\n",
            "Non-trainable params: 0\n",
            "_________________________________________________________________\n"
          ]
        }
      ]
    },
    {
      "cell_type": "markdown",
      "source": [
        "* Total params - total number in the model\n",
        "* Trainable parameters - there are the parameters (patterns) the model can update as it trains\n",
        "* Non-trainable paras - these are not updated during training. This is done when you have already used patterns or params from other model during **transfer learning**"
      ],
      "metadata": {
        "id": "dgbySVAH3HJi"
      }
    },
    {
      "cell_type": "markdown",
      "source": [
        "📖 Resourse For a more in-depth overive of the trainalbe parameters \n",
        "http://introtodeeplearning.com/"
      ],
      "metadata": {
        "id": "5vmnoULi259m"
      }
    },
    {
      "cell_type": "markdown",
      "source": [
        "💃 try palying around with the number of units in th ehidden layer (total and trainiable) by calling model summary"
      ],
      "metadata": {
        "id": "Ap7LVVKw3Jl4"
      }
    }
  ]
}
