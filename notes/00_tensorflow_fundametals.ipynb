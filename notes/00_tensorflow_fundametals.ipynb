{
  "nbformat": 4,
  "nbformat_minor": 0,
  "metadata": {
    "colab": {
      "name": "00_tensorflow_fundametals.ipynb",
      "provenance": [],
      "collapsed_sections": [],
      "toc_visible": true,
      "authorship_tag": "ABX9TyO00qIb9T8W7tqajrz3zPGx",
      "include_colab_link": true
    },
    "kernelspec": {
      "name": "python3",
      "display_name": "Python 3"
    },
    "language_info": {
      "name": "python"
    },
    "accelerator": "GPU"
  },
  "cells": [
    {
      "cell_type": "markdown",
      "metadata": {
        "id": "view-in-github",
        "colab_type": "text"
      },
      "source": [
        "<a href=\"https://colab.research.google.com/github/lisabroadhead/udemy-tensorflow/blob/main/00_tensorflow_fundametals.ipynb\" target=\"_parent\"><img src=\"https://colab.research.google.com/assets/colab-badge.svg\" alt=\"Open In Colab\"/></a>"
      ]
    },
    {
      "cell_type": "code",
      "execution_count": null,
      "metadata": {
        "id": "6QHmPRa4s3Cw"
      },
      "outputs": [],
      "source": [
        ""
      ]
    },
    {
      "cell_type": "markdown",
      "source": [
        "# We're going to cover the most fundamental concepts of tensors using tensorflow\n",
        "\n",
        "Video: 2.15\n",
        "\n",
        "we're going to cover\n",
        "1. intro tensors\n",
        "2. information from tensos\n",
        "3. manuipualteinf tensors\n",
        "4. tensonrs numPy\n",
        "5. usgin ftf functions (speed up pythong code)\n",
        "6. excerseis for me!"
      ],
      "metadata": {
        "id": "ujAWDrnZtCUf"
      }
    },
    {
      "cell_type": "markdown",
      "source": [
        "# Intor to tensros"
      ],
      "metadata": {
        "id": "Bgr5sppGtqMG"
      }
    },
    {
      "cell_type": "code",
      "source": [
        "# import tensorflow\n",
        "import tensorflow as tf\n",
        "print(tf.__version__)"
      ],
      "metadata": {
        "colab": {
          "base_uri": "https://localhost:8080/"
        },
        "id": "tNMWP0s8twOR",
        "outputId": "6b514818-2242-4074-bd8d-de1abec8f6bd"
      },
      "execution_count": null,
      "outputs": [
        {
          "output_type": "stream",
          "name": "stdout",
          "text": [
            "2.8.0\n"
          ]
        }
      ]
    },
    {
      "cell_type": "code",
      "source": [
        "# Create tensors with tf.constat()\n",
        "scalar = tf.constant(7)\n",
        "scalar"
      ],
      "metadata": {
        "colab": {
          "base_uri": "https://localhost:8080/"
        },
        "id": "BH6FI7rluPYV",
        "outputId": "7a694216-ca01-42c3-fd2d-202b90b650bd"
      },
      "execution_count": null,
      "outputs": [
        {
          "output_type": "execute_result",
          "data": {
            "text/plain": [
              "<tf.Tensor: shape=(), dtype=int32, numpy=7>"
            ]
          },
          "metadata": {},
          "execution_count": 2
        }
      ]
    },
    {
      "cell_type": "code",
      "source": [
        "# Check the number direction of a tensor \n",
        "scalar.ndim"
      ],
      "metadata": {
        "colab": {
          "base_uri": "https://localhost:8080/"
        },
        "id": "SfAvB3xOwIT-",
        "outputId": "2eb1503e-c45a-4407-bc03-3061e0ef419c"
      },
      "execution_count": null,
      "outputs": [
        {
          "output_type": "execute_result",
          "data": {
            "text/plain": [
              "0"
            ]
          },
          "metadata": {},
          "execution_count": 3
        }
      ]
    },
    {
      "cell_type": "code",
      "source": [
        "# create a vector\n",
        "\n",
        "vector = tf.constant([10,10,10,13])\n",
        "vector"
      ],
      "metadata": {
        "colab": {
          "base_uri": "https://localhost:8080/"
        },
        "id": "HPzEKWlCwUg9",
        "outputId": "076cf8ed-b3e1-40b0-f893-db78e5e81ae3"
      },
      "execution_count": null,
      "outputs": [
        {
          "output_type": "execute_result",
          "data": {
            "text/plain": [
              "<tf.Tensor: shape=(4,), dtype=int32, numpy=array([10, 10, 10, 13], dtype=int32)>"
            ]
          },
          "metadata": {},
          "execution_count": 4
        }
      ]
    },
    {
      "cell_type": "code",
      "source": [
        "# check diemeions of vector\n",
        "\n",
        "vector.ndim"
      ],
      "metadata": {
        "colab": {
          "base_uri": "https://localhost:8080/"
        },
        "id": "v3Wca02YwwNF",
        "outputId": "256d07b4-1f34-46f2-c869-e053fa94294a"
      },
      "execution_count": null,
      "outputs": [
        {
          "output_type": "execute_result",
          "data": {
            "text/plain": [
              "1"
            ]
          },
          "metadata": {},
          "execution_count": 5
        }
      ]
    },
    {
      "cell_type": "code",
      "source": [
        "# create a matrix\n",
        "\n",
        "matrix = tf.constant([[10,7],[7,10]])\n",
        "matrix"
      ],
      "metadata": {
        "colab": {
          "base_uri": "https://localhost:8080/"
        },
        "id": "NTkZAv6Gw_24",
        "outputId": "fd9fa0bb-3c29-4139-a2d5-64498d336440"
      },
      "execution_count": null,
      "outputs": [
        {
          "output_type": "execute_result",
          "data": {
            "text/plain": [
              "<tf.Tensor: shape=(2, 2), dtype=int32, numpy=\n",
              "array([[10,  7],\n",
              "       [ 7, 10]], dtype=int32)>"
            ]
          },
          "metadata": {},
          "execution_count": 6
        }
      ]
    },
    {
      "cell_type": "code",
      "source": [
        " matrix.ndim"
      ],
      "metadata": {
        "colab": {
          "base_uri": "https://localhost:8080/"
        },
        "id": "dCanORVBxeKu",
        "outputId": "17347c58-af45-49d9-f496-110523ea8e43"
      },
      "execution_count": null,
      "outputs": [
        {
          "output_type": "execute_result",
          "data": {
            "text/plain": [
              "2"
            ]
          },
          "metadata": {},
          "execution_count": 7
        }
      ]
    },
    {
      "cell_type": "code",
      "source": [
        "# create another matrix\n",
        "another_matrix = tf.constant([[11.,13.,.1],[10.,7.,.3],[3.,21.,.2]],dtype = tf.float16)\n",
        "another_matrix"
      ],
      "metadata": {
        "colab": {
          "base_uri": "https://localhost:8080/"
        },
        "id": "f_t5X5TyyM3w",
        "outputId": "97926288-a532-45b5-a71d-53b6e5f01c6c"
      },
      "execution_count": null,
      "outputs": [
        {
          "output_type": "execute_result",
          "data": {
            "text/plain": [
              "<tf.Tensor: shape=(3, 3), dtype=float16, numpy=\n",
              "array([[11. , 13. ,  0.1],\n",
              "       [10. ,  7. ,  0.3],\n",
              "       [ 3. , 21. ,  0.2]], dtype=float16)>"
            ]
          },
          "metadata": {},
          "execution_count": 8
        }
      ]
    },
    {
      "cell_type": "code",
      "source": [
        "# What do you think the number of diemeions of another_matrix?\n",
        "another_matrix.ndim"
      ],
      "metadata": {
        "colab": {
          "base_uri": "https://localhost:8080/"
        },
        "id": "z66OYrllAM9L",
        "outputId": "90e2ea1a-ce2d-4dd4-ec36-3236f6543b63"
      },
      "execution_count": null,
      "outputs": [
        {
          "output_type": "execute_result",
          "data": {
            "text/plain": [
              "2"
            ]
          },
          "metadata": {},
          "execution_count": 9
        }
      ]
    },
    {
      "cell_type": "code",
      "source": [
        "tensor = tf.constant([\n",
        "                      [[1,2,3],\n",
        "                        [4,5,6]],\n",
        "                       [[7,8,9],\n",
        "                        [10,11,12]],\n",
        "                       [[13,14,15],\n",
        "                        [16,17,18]]\n",
        "                      ])\n",
        "tensor"
      ],
      "metadata": {
        "colab": {
          "base_uri": "https://localhost:8080/"
        },
        "id": "ZPONyPLwAoo1",
        "outputId": "449daf42-6b68-4070-826d-b2294308200b"
      },
      "execution_count": null,
      "outputs": [
        {
          "output_type": "execute_result",
          "data": {
            "text/plain": [
              "<tf.Tensor: shape=(3, 2, 3), dtype=int32, numpy=\n",
              "array([[[ 1,  2,  3],\n",
              "        [ 4,  5,  6]],\n",
              "\n",
              "       [[ 7,  8,  9],\n",
              "        [10, 11, 12]],\n",
              "\n",
              "       [[13, 14, 15],\n",
              "        [16, 17, 18]]], dtype=int32)>"
            ]
          },
          "metadata": {},
          "execution_count": 10
        }
      ]
    },
    {
      "cell_type": "code",
      "source": [
        "tensor.ndim"
      ],
      "metadata": {
        "colab": {
          "base_uri": "https://localhost:8080/"
        },
        "id": "ooWqpz0BCZB6",
        "outputId": "f6baf6b3-97e0-4351-fa9f-18ad09733ab1"
      },
      "execution_count": null,
      "outputs": [
        {
          "output_type": "execute_result",
          "data": {
            "text/plain": [
              "3"
            ]
          },
          "metadata": {},
          "execution_count": 11
        }
      ]
    },
    {
      "cell_type": "markdown",
      "source": [
        "# Definitions\n",
        "\n",
        "**Scalar**: single number\n",
        "\n",
        "**Vector**: number with direction: windspeen & direction\n",
        "\n",
        "**Matrix**: 2 deminsionsla array of numbers\n",
        "\n",
        "**Tensor**: an n-dimensional array of numbers (where n can be any number from 0-dimensional = scalar, 1-dimensional = vector)"
      ],
      "metadata": {
        "id": "xnRJNaa3d6Kk"
      }
    },
    {
      "cell_type": "code",
      "source": [
        "tf.Variable"
      ],
      "metadata": {
        "colab": {
          "base_uri": "https://localhost:8080/"
        },
        "id": "EXkVOvJBeE9L",
        "outputId": "bff5616a-0f53-4344-f7fc-16ec93c33c11"
      },
      "execution_count": null,
      "outputs": [
        {
          "output_type": "execute_result",
          "data": {
            "text/plain": [
              "tensorflow.python.ops.variables.Variable"
            ]
          },
          "metadata": {},
          "execution_count": 12
        }
      ]
    },
    {
      "cell_type": "markdown",
      "source": [
        "# How to create the same \n"
      ],
      "metadata": {
        "id": "ngRhMxRIfqaE"
      }
    },
    {
      "cell_type": "code",
      "source": [
        "changeable_tensor = tf.Variable([10,7])\n",
        "unchangeable_tensor = tf.constant([10,7])\n",
        "changeable_tensor,unchangeable_tensor"
      ],
      "metadata": {
        "colab": {
          "base_uri": "https://localhost:8080/"
        },
        "id": "wwbsdyyOgHDS",
        "outputId": "5648cb31-39c8-4c6e-e789-dc35fd5e6977"
      },
      "execution_count": null,
      "outputs": [
        {
          "output_type": "execute_result",
          "data": {
            "text/plain": [
              "(<tf.Variable 'Variable:0' shape=(2,) dtype=int32, numpy=array([10,  7], dtype=int32)>,\n",
              " <tf.Tensor: shape=(2,), dtype=int32, numpy=array([10,  7], dtype=int32)>)"
            ]
          },
          "metadata": {},
          "execution_count": 13
        }
      ]
    },
    {
      "cell_type": "code",
      "source": [
        "# Lets try to change somethingin in the changeable \n",
        "changeable_tensor[0] = 7"
      ],
      "metadata": {
        "colab": {
          "base_uri": "https://localhost:8080/",
          "height": 187
        },
        "id": "Lq7SROwLgSlK",
        "outputId": "5245f7a7-f451-4456-879a-91734b48f2b6"
      },
      "execution_count": null,
      "outputs": [
        {
          "output_type": "error",
          "ename": "TypeError",
          "evalue": "ignored",
          "traceback": [
            "\u001b[0;31m---------------------------------------------------------------------------\u001b[0m",
            "\u001b[0;31mTypeError\u001b[0m                                 Traceback (most recent call last)",
            "\u001b[0;32m<ipython-input-15-54ca40a5de38>\u001b[0m in \u001b[0;36m<module>\u001b[0;34m()\u001b[0m\n\u001b[1;32m      1\u001b[0m \u001b[0;31m# Lets try to change somethingin in the changeable\u001b[0m\u001b[0;34m\u001b[0m\u001b[0;34m\u001b[0m\u001b[0;34m\u001b[0m\u001b[0m\n\u001b[0;32m----> 2\u001b[0;31m \u001b[0mchangeable_tensor\u001b[0m\u001b[0;34m[\u001b[0m\u001b[0;36m0\u001b[0m\u001b[0;34m]\u001b[0m \u001b[0;34m=\u001b[0m \u001b[0;36m7\u001b[0m\u001b[0;34m\u001b[0m\u001b[0;34m\u001b[0m\u001b[0m\n\u001b[0m",
            "\u001b[0;31mTypeError\u001b[0m: 'ResourceVariable' object does not support item assignment"
          ]
        }
      ]
    },
    {
      "cell_type": "code",
      "source": [
        "# Lets try .assign\n",
        "changeable_tensor[0].assign(7)"
      ],
      "metadata": {
        "id": "TjtI4Gl4hAVk"
      },
      "execution_count": null,
      "outputs": []
    },
    {
      "cell_type": "code",
      "source": [
        "# Lets try to do the same with unchangeable_tensor\n",
        "unchangeable_tensor[0]\n",
        "# unchangeable_tensor[0] = 7\n",
        "unchangeable_tensor[0].assign(7)"
      ],
      "metadata": {
        "id": "cu4lWdiWhTM6"
      },
      "execution_count": null,
      "outputs": []
    },
    {
      "cell_type": "markdown",
      "source": [
        "🔑 **Note**:  *Rarely will you need to deicde to use constand or variabels in your tensors*"
      ],
      "metadata": {
        "id": "3niams3fiQDL"
      }
    },
    {
      "cell_type": "markdown",
      "source": [
        "1. variables can be changed\n",
        "2. constants cannot be changed\n",
        "\n",
        "#Random Tensors\n",
        "\n",
        "Tensors with someabritraty size which containrandom number"
      ],
      "metadata": {
        "id": "4rVc37NVh_8M"
      }
    },
    {
      "cell_type": "code",
      "source": [
        "random_1 = tf.random.Generator.from_seed(42)\n",
        "random_1 = random_1.normal(shape=(3,2))\n",
        "# random_1\n",
        "\n",
        "random_2 = tf.random.Generator.from_seed(42)\n",
        "random_2 = random_2.normal(shape=(9,2))\n",
        "# random_2\n",
        "\n",
        "\n",
        "# are they equal\n",
        "random_1,random_2, random_1 == random_2"
      ],
      "metadata": {
        "id": "d2notfi6mM9K"
      },
      "execution_count": null,
      "outputs": []
    },
    {
      "cell_type": "code",
      "source": [
        "### Shuffly the roder of the elements in a tensor\n",
        "\n",
        "# shuffle you a tensor (valuable for when you want to shuffle your data so the inherient order doesn't affect learning)\n",
        "not_shuffled = tf.constant([[10,11],\n",
        "                            [11,17],\n",
        "                            [21,31]])\n",
        "not_shuffled.ndim"
      ],
      "metadata": {
        "colab": {
          "base_uri": "https://localhost:8080/"
        },
        "id": "AZVCnzuppKfb",
        "outputId": "48991f83-699d-44aa-a161-92ff8384ed15"
      },
      "execution_count": null,
      "outputs": [
        {
          "output_type": "execute_result",
          "data": {
            "text/plain": [
              "2"
            ]
          },
          "metadata": {},
          "execution_count": 19
        }
      ]
    },
    {
      "cell_type": "code",
      "source": [
        "not_shuffled"
      ],
      "metadata": {
        "id": "0z023GmfqQWS"
      },
      "execution_count": null,
      "outputs": []
    },
    {
      "cell_type": "code",
      "source": [
        "tf.random.shuffle(not_shuffled)"
      ],
      "metadata": {
        "id": "bnCcJ_62qaZV"
      },
      "execution_count": null,
      "outputs": []
    },
    {
      "cell_type": "code",
      "source": [
        "tf.random.shuffle(not_shuffled)"
      ],
      "metadata": {
        "id": "_1ptoQoHrgV_"
      },
      "execution_count": null,
      "outputs": []
    },
    {
      "cell_type": "code",
      "source": [
        "tf.random.set_seed(42)\n",
        "tf.random.shuffle(not_shuffled, seed=42)"
      ],
      "metadata": {
        "id": "Djl8UpNPriX7",
        "colab": {
          "base_uri": "https://localhost:8080/"
        },
        "outputId": "3625b45c-1111-4f41-d50f-42238d16ad47"
      },
      "execution_count": null,
      "outputs": [
        {
          "output_type": "execute_result",
          "data": {
            "text/plain": [
              "<tf.Tensor: shape=(3, 2), dtype=int32, numpy=\n",
              "array([[10, 11],\n",
              "       [11, 17],\n",
              "       [21, 31]], dtype=int32)>"
            ]
          },
          "metadata": {},
          "execution_count": 25
        }
      ]
    },
    {
      "cell_type": "code",
      "source": [
        "# 🛠️ read random seed and practicing wring 5 random tensors and shuffling them"
      ],
      "metadata": {
        "id": "Xr1RwmzNsm6S"
      },
      "execution_count": null,
      "outputs": []
    },
    {
      "cell_type": "code",
      "source": [
        "# EXCERSISES\n",
        "creation_1 = tf.constant([[11,22],\n",
        "                          [33,44],\n",
        "                          [55,66],\n",
        "                         [77,88]])\n",
        "creation_1\n",
        "# tf.random.set_seed(1)\n",
        "tf.random.shuffle(creation_1)\n",
        "\n",
        "                                                 \n"
      ],
      "metadata": {
        "colab": {
          "base_uri": "https://localhost:8080/"
        },
        "id": "MFPOioDf1Pvk",
        "outputId": "8ba9a5a5-ef88-44cb-be0c-a069b8f2a7f0"
      },
      "execution_count": null,
      "outputs": [
        {
          "output_type": "execute_result",
          "data": {
            "text/plain": [
              "<tf.Tensor: shape=(4, 2), dtype=int32, numpy=\n",
              "array([[33, 44],\n",
              "       [55, 66],\n",
              "       [11, 22],\n",
              "       [77, 88]], dtype=int32)>"
            ]
          },
          "metadata": {},
          "execution_count": 23
        }
      ]
    },
    {
      "cell_type": "code",
      "source": [
        "creation_2 = tf.constant([[2,3],\n",
        "                          [88,9],\n",
        "                          [300,2],\n",
        "                          [350,653]])\n",
        "# tf.random.set_seed(300)\n",
        "tf.random.shuffle(creation_2,seed=300)\n"
      ],
      "metadata": {
        "id": "dY8VjL2C3OGU",
        "colab": {
          "base_uri": "https://localhost:8080/"
        },
        "outputId": "c12dbd52-1eb6-4124-c185-33321fad84f3"
      },
      "execution_count": null,
      "outputs": [
        {
          "output_type": "execute_result",
          "data": {
            "text/plain": [
              "<tf.Tensor: shape=(4, 2), dtype=int32, numpy=\n",
              "array([[ 88,   9],\n",
              "       [350, 653],\n",
              "       [300,   2],\n",
              "       [  2,   3]], dtype=int32)>"
            ]
          },
          "metadata": {},
          "execution_count": 29
        }
      ]
    },
    {
      "cell_type": "code",
      "source": [
        "creation_3 = tf.Variable([[7,10],\n",
        "                          [11,13],\n",
        "                          [21,35]])\n",
        "tf.random.set_seed(200)\n",
        "tf.random.shuffle(creation_3,seed=3)"
      ],
      "metadata": {
        "id": "R47YkZdW3x1t",
        "colab": {
          "base_uri": "https://localhost:8080/"
        },
        "outputId": "e2d7ddb0-a395-4e76-f2e1-b17d65ce4514"
      },
      "execution_count": null,
      "outputs": [
        {
          "output_type": "execute_result",
          "data": {
            "text/plain": [
              "<tf.Tensor: shape=(3, 2), dtype=int32, numpy=\n",
              "array([[21, 35],\n",
              "       [ 7, 10],\n",
              "       [11, 13]], dtype=int32)>"
            ]
          },
          "metadata": {},
          "execution_count": 28
        }
      ]
    },
    {
      "cell_type": "code",
      "source": [
        "creation_4 = tf.Variable([[44,4],[5,55],[66,6],[7,77]])\n",
        "tf.random.shuffle(creation_4)"
      ],
      "metadata": {
        "id": "A4kM689A4H4x",
        "colab": {
          "base_uri": "https://localhost:8080/"
        },
        "outputId": "0c15289b-82a7-4ee6-af54-c0c6c0cacfac"
      },
      "execution_count": null,
      "outputs": [
        {
          "output_type": "execute_result",
          "data": {
            "text/plain": [
              "<tf.Tensor: shape=(4, 2), dtype=int32, numpy=\n",
              "array([[66,  6],\n",
              "       [44,  4],\n",
              "       [ 7, 77],\n",
              "       [ 5, 55]], dtype=int32)>"
            ]
          },
          "metadata": {},
          "execution_count": 27
        }
      ]
    },
    {
      "cell_type": "code",
      "source": [
        "creation_5 = tf.constant([[11,7],\n",
        "                          [13,21],\n",
        "                          [18,23],\n",
        "                          [55,100]])\n",
        "tf.random.shuffle(creation_5)"
      ],
      "metadata": {
        "id": "kpo7zyhH4VJg",
        "colab": {
          "base_uri": "https://localhost:8080/"
        },
        "outputId": "b752e073-3790-45ba-c112-8c44183505e0"
      },
      "execution_count": null,
      "outputs": [
        {
          "output_type": "execute_result",
          "data": {
            "text/plain": [
              "<tf.Tensor: shape=(4, 2), dtype=int32, numpy=\n",
              "array([[ 55, 100],\n",
              "       [ 11,   7],\n",
              "       [ 13,  21],\n",
              "       [ 18,  23]], dtype=int32)>"
            ]
          },
          "metadata": {},
          "execution_count": 26
        }
      ]
    },
    {
      "cell_type": "code",
      "source": [
        "# Other Ways to make tensors\n",
        "# numpuy.ones\n",
        "\n",
        "tf.ones([10,7])"
      ],
      "metadata": {
        "colab": {
          "base_uri": "https://localhost:8080/"
        },
        "id": "KYCenvGn5ktR",
        "outputId": "02f048af-e4ca-4e61-8687-353a985aa936"
      },
      "execution_count": null,
      "outputs": [
        {
          "output_type": "execute_result",
          "data": {
            "text/plain": [
              "<tf.Tensor: shape=(10, 7), dtype=float32, numpy=\n",
              "array([[1., 1., 1., 1., 1., 1., 1.],\n",
              "       [1., 1., 1., 1., 1., 1., 1.],\n",
              "       [1., 1., 1., 1., 1., 1., 1.],\n",
              "       [1., 1., 1., 1., 1., 1., 1.],\n",
              "       [1., 1., 1., 1., 1., 1., 1.],\n",
              "       [1., 1., 1., 1., 1., 1., 1.],\n",
              "       [1., 1., 1., 1., 1., 1., 1.],\n",
              "       [1., 1., 1., 1., 1., 1., 1.],\n",
              "       [1., 1., 1., 1., 1., 1., 1.],\n",
              "       [1., 1., 1., 1., 1., 1., 1.]], dtype=float32)>"
            ]
          },
          "metadata": {},
          "execution_count": 34
        }
      ]
    },
    {
      "cell_type": "code",
      "source": [
        "# create a tensors of all zeros\n",
        "tf.zeros(shape=(10,7))"
      ],
      "metadata": {
        "colab": {
          "base_uri": "https://localhost:8080/"
        },
        "id": "DnDj4Geo52Aq",
        "outputId": "ed6a3e2b-dee1-43a9-d7b0-349d6f6be30c"
      },
      "execution_count": null,
      "outputs": [
        {
          "output_type": "execute_result",
          "data": {
            "text/plain": [
              "<tf.Tensor: shape=(10, 7), dtype=float32, numpy=\n",
              "array([[0., 0., 0., 0., 0., 0., 0.],\n",
              "       [0., 0., 0., 0., 0., 0., 0.],\n",
              "       [0., 0., 0., 0., 0., 0., 0.],\n",
              "       [0., 0., 0., 0., 0., 0., 0.],\n",
              "       [0., 0., 0., 0., 0., 0., 0.],\n",
              "       [0., 0., 0., 0., 0., 0., 0.],\n",
              "       [0., 0., 0., 0., 0., 0., 0.],\n",
              "       [0., 0., 0., 0., 0., 0., 0.],\n",
              "       [0., 0., 0., 0., 0., 0., 0.],\n",
              "       [0., 0., 0., 0., 0., 0., 0.]], dtype=float32)>"
            ]
          },
          "metadata": {},
          "execution_count": 33
        }
      ]
    },
    {
      "cell_type": "markdown",
      "source": [
        "# you can also turn numpy into tensors\n",
        "\n",
        "the main difference between numPy arrays and tensors is that tensors can be run on a GPU. Much faster for numb=erical computing\n",
        "\n",
        "\n",
        "X = tf.constant = (some_matrix) # cpital matrix for Matrix of tensor\n",
        "\n",
        "y = tf.constant(vector) # nonCaptial for vector"
      ],
      "metadata": {
        "id": "_9IMWF0-6JOz"
      }
    },
    {
      "cell_type": "code",
      "source": [
        "import numpy as np\n",
        "\n",
        "numpy_A = np.arange(1,25, dtype=np.int32)\n",
        "numpy_A\n",
        "\n"
      ],
      "metadata": {
        "colab": {
          "base_uri": "https://localhost:8080/"
        },
        "id": "yF0-xiD36Yq5",
        "outputId": "a0aa4629-388f-4255-850a-7ee26af62354"
      },
      "execution_count": null,
      "outputs": [
        {
          "output_type": "execute_result",
          "data": {
            "text/plain": [
              "array([ 1,  2,  3,  4,  5,  6,  7,  8,  9, 10, 11, 12, 13, 14, 15, 16, 17,\n",
              "       18, 19, 20, 21, 22, 23, 24], dtype=int32)"
            ]
          },
          "metadata": {},
          "execution_count": 32
        }
      ]
    },
    {
      "cell_type": "code",
      "source": [
        "A = tf.constant(numpy_A)\n",
        "A,A.ndim"
      ],
      "metadata": {
        "colab": {
          "base_uri": "https://localhost:8080/"
        },
        "id": "eRbuBqcl7m90",
        "outputId": "5ca5b1dc-fcc8-40ea-daf4-71cc860a78f8"
      },
      "execution_count": null,
      "outputs": [
        {
          "output_type": "execute_result",
          "data": {
            "text/plain": [
              "(<tf.Tensor: shape=(24,), dtype=int32, numpy=\n",
              " array([ 1,  2,  3,  4,  5,  6,  7,  8,  9, 10, 11, 12, 13, 14, 15, 16, 17,\n",
              "        18, 19, 20, 21, 22, 23, 24], dtype=int32)>, 1)"
            ]
          },
          "metadata": {},
          "execution_count": 36
        }
      ]
    },
    {
      "cell_type": "code",
      "source": [
        "A = tf.constant(numpy_A,shape=(6,4))\n",
        "B = tf.constant(numpy_A)\n",
        "A,B"
      ],
      "metadata": {
        "colab": {
          "base_uri": "https://localhost:8080/"
        },
        "id": "0YBY1O8T8DCg",
        "outputId": "d5a8516b-b3c0-4a0b-9e88-c4fc314e94da"
      },
      "execution_count": null,
      "outputs": [
        {
          "output_type": "execute_result",
          "data": {
            "text/plain": [
              "(<tf.Tensor: shape=(6, 4), dtype=int32, numpy=\n",
              " array([[ 1,  2,  3,  4],\n",
              "        [ 5,  6,  7,  8],\n",
              "        [ 9, 10, 11, 12],\n",
              "        [13, 14, 15, 16],\n",
              "        [17, 18, 19, 20],\n",
              "        [21, 22, 23, 24]], dtype=int32)>,\n",
              " <tf.Tensor: shape=(24,), dtype=int32, numpy=\n",
              " array([ 1,  2,  3,  4,  5,  6,  7,  8,  9, 10, 11, 12, 13, 14, 15, 16, 17,\n",
              "        18, 19, 20, 21, 22, 23, 24], dtype=int32)>)"
            ]
          },
          "metadata": {},
          "execution_count": 35
        }
      ]
    },
    {
      "cell_type": "markdown",
      "source": [
        "### Getting informtation from tensors\n",
        "\n",
        "when dealing with tenors you probably want to be aware of the following arrtibutes\n",
        "- shape\n",
        "- Rank\n",
        "- Axis or dimension\n",
        "- size"
      ],
      "metadata": {
        "id": "NedH49eOqqNV"
      }
    },
    {
      "cell_type": "code",
      "source": [
        "# Create a rank 4 tensor\n",
        "\n",
        "rank_four = tf.constant([\n",
        "  [\n",
        "    [13,14,15],\n",
        "    [16,17,18],\n",
        "    [19,20,21]\n",
        "  ],[\n",
        "     [34,35,36],\n",
        "     [27,28,29],\n",
        "     [38,27,26]\n",
        "  ],[\n",
        "   [32,99,76],\n",
        "   [66,55,77],\n",
        "   [99,54,32]\n",
        "  ],[\n",
        "     [34,35,36],\n",
        "     [23,34,54],\n",
        "     [44,33,22]\n",
        "  ]\n",
        "])\n",
        "rank_four"
      ],
      "metadata": {
        "colab": {
          "base_uri": "https://localhost:8080/"
        },
        "id": "QpmUzpLerkbj",
        "outputId": "4b9c66f2-f6cd-4601-aab5-111ba86502f5"
      },
      "execution_count": null,
      "outputs": [
        {
          "output_type": "execute_result",
          "data": {
            "text/plain": [
              "<tf.Tensor: shape=(4, 3, 3), dtype=int32, numpy=\n",
              "array([[[13, 14, 15],\n",
              "        [16, 17, 18],\n",
              "        [19, 20, 21]],\n",
              "\n",
              "       [[34, 35, 36],\n",
              "        [27, 28, 29],\n",
              "        [38, 27, 26]],\n",
              "\n",
              "       [[32, 99, 76],\n",
              "        [66, 55, 77],\n",
              "        [99, 54, 32]],\n",
              "\n",
              "       [[34, 35, 36],\n",
              "        [23, 34, 54],\n",
              "        [44, 33, 22]]], dtype=int32)>"
            ]
          },
          "metadata": {},
          "execution_count": 40
        }
      ]
    },
    {
      "cell_type": "code",
      "source": [
        "rank_4 = tf.zeros(shape=[2,3,4,5])\n",
        "rank_4"
      ],
      "metadata": {
        "id": "r-KI8-LosQdd"
      },
      "execution_count": null,
      "outputs": []
    },
    {
      "cell_type": "code",
      "source": [
        "rank_4[0]"
      ],
      "metadata": {
        "id": "tJI2udERs7OD"
      },
      "execution_count": null,
      "outputs": []
    },
    {
      "cell_type": "code",
      "source": [
        "rank_4.shape, rank_4.ndim,tf.size(rank_4)"
      ],
      "metadata": {
        "colab": {
          "base_uri": "https://localhost:8080/"
        },
        "id": "OwaDECZZtI2w",
        "outputId": "5290a8c6-d612-49d6-8c58-e92b64897708"
      },
      "execution_count": null,
      "outputs": [
        {
          "output_type": "execute_result",
          "data": {
            "text/plain": [
              "(TensorShape([2, 3, 4, 5]), 4, <tf.Tensor: shape=(), dtype=int32, numpy=120>)"
            ]
          },
          "metadata": {},
          "execution_count": 42
        }
      ]
    },
    {
      "cell_type": "code",
      "source": [
        "2 * 3 *4 *5"
      ],
      "metadata": {
        "id": "8Wgh-kJztnEQ"
      },
      "execution_count": null,
      "outputs": []
    },
    {
      "cell_type": "code",
      "source": [
        "# Pretty Print Statements: Getting sth evarious attributes out of a tensor\n",
        "print(\"Datatype of every elementL\", rank_4.dtype)\n",
        "print(\"Number of dimensins (rank):\", rank_4.ndim)\n",
        "print(\"Shape of tensor: \", rank_4.shape)\n",
        "print(\"Elements along zero access: \", rank_4.shape[0])\n",
        "print(\"elements along the last access: \", rank_4.shape[-1])\n",
        "print(\"Total number of elements in our tensor:\", tf.size(rank_4))\n",
        "print(\"Total number of elements in our tensor:\", tf.size(rank_4).numpy())"
      ],
      "metadata": {
        "id": "8sTK3mfPtpa_"
      },
      "execution_count": null,
      "outputs": []
    },
    {
      "cell_type": "code",
      "source": [
        "### Indexing Tensors\n",
        "\n",
        "# can be indexed like a python list\n",
        "\n",
        "# get the first 2 elements of each dimension\n",
        "\n",
        "# my try at what he did\n",
        "# for x in range(0,tf.size(rank_4).numpy()):\n",
        "#   print(rank_4[0])\n",
        "#   print(rank_4[1])"
      ],
      "metadata": {
        "id": "l8NLXjg7u-1j"
      },
      "execution_count": null,
      "outputs": []
    },
    {
      "cell_type": "code",
      "source": [
        "# Get the first 2 elements in each dimension\n",
        "\n",
        "somelist = [2,3,4,5]\n",
        "somelist[:2]\n",
        "\n",
        "# so here we'd do\n",
        "\n",
        "rank_4[:2,:2,:2,:2]"
      ],
      "metadata": {
        "id": "T1YdsAvnvp2o",
        "colab": {
          "base_uri": "https://localhost:8080/"
        },
        "outputId": "8a52c80c-5a2f-40cf-9808-0312b323c394"
      },
      "execution_count": null,
      "outputs": [
        {
          "output_type": "execute_result",
          "data": {
            "text/plain": [
              "<tf.Tensor: shape=(2, 2, 2, 2), dtype=float32, numpy=\n",
              "array([[[[0., 0.],\n",
              "         [0., 0.]],\n",
              "\n",
              "        [[0., 0.],\n",
              "         [0., 0.]]],\n",
              "\n",
              "\n",
              "       [[[0., 0.],\n",
              "         [0., 0.]],\n",
              "\n",
              "        [[0., 0.],\n",
              "         [0., 0.]]]], dtype=float32)>"
            ]
          },
          "metadata": {},
          "execution_count": 49
        }
      ]
    },
    {
      "cell_type": "code",
      "source": [
        "#Get the first element from each dimensions from each index except for th efinal one\n",
        "\n",
        "# try with rank 4\n",
        "rank_4[:1,:1,:1]"
      ],
      "metadata": {
        "id": "6CtSRT2gwH-c",
        "colab": {
          "base_uri": "https://localhost:8080/"
        },
        "outputId": "4a7037b2-e752-4ab4-9213-c4075ab8b95e"
      },
      "execution_count": null,
      "outputs": [
        {
          "output_type": "execute_result",
          "data": {
            "text/plain": [
              "<tf.Tensor: shape=(1, 1, 1, 5), dtype=float32, numpy=array([[[[0., 0., 0., 0., 0.]]]], dtype=float32)>"
            ]
          },
          "metadata": {},
          "execution_count": 48
        }
      ]
    },
    {
      "cell_type": "code",
      "source": [
        "rank_4[:1,:1,:1,:]"
      ],
      "metadata": {
        "id": "qta5xIEiwvEO",
        "colab": {
          "base_uri": "https://localhost:8080/"
        },
        "outputId": "823d5de7-e7df-4bee-c775-2c21bf94947a"
      },
      "execution_count": null,
      "outputs": [
        {
          "output_type": "execute_result",
          "data": {
            "text/plain": [
              "<tf.Tensor: shape=(1, 1, 1, 5), dtype=float32, numpy=array([[[[0., 0., 0., 0., 0.]]]], dtype=float32)>"
            ]
          },
          "metadata": {},
          "execution_count": 47
        }
      ]
    },
    {
      "cell_type": "code",
      "source": [
        "rank_4[:1,:1,:,:1]"
      ],
      "metadata": {
        "id": "mor57sj0w0FB",
        "colab": {
          "base_uri": "https://localhost:8080/"
        },
        "outputId": "b73a347f-9ce9-4100-e9ca-761912a06a54"
      },
      "execution_count": null,
      "outputs": [
        {
          "output_type": "execute_result",
          "data": {
            "text/plain": [
              "<tf.Tensor: shape=(1, 1, 4, 1), dtype=float32, numpy=\n",
              "array([[[[0.],\n",
              "         [0.],\n",
              "         [0.],\n",
              "         [0.]]]], dtype=float32)>"
            ]
          },
          "metadata": {},
          "execution_count": 46
        }
      ]
    },
    {
      "cell_type": "code",
      "source": [
        "rank_4[:1,:,:1,:1]"
      ],
      "metadata": {
        "id": "CFcQbFKvxCmO",
        "colab": {
          "base_uri": "https://localhost:8080/"
        },
        "outputId": "0381d292-9ab7-4545-cbdc-5b5728e81956"
      },
      "execution_count": null,
      "outputs": [
        {
          "output_type": "execute_result",
          "data": {
            "text/plain": [
              "<tf.Tensor: shape=(1, 3, 1, 1), dtype=float32, numpy=\n",
              "array([[[[0.]],\n",
              "\n",
              "        [[0.]],\n",
              "\n",
              "        [[0.]]]], dtype=float32)>"
            ]
          },
          "metadata": {},
          "execution_count": 45
        }
      ]
    },
    {
      "cell_type": "code",
      "source": [
        "rank_4[:,:1,:1,:1]"
      ],
      "metadata": {
        "id": "MFpw2WG5xJuv",
        "colab": {
          "base_uri": "https://localhost:8080/"
        },
        "outputId": "29fc69c2-5f92-41d9-d0fa-9ce8daf0fe3c"
      },
      "execution_count": null,
      "outputs": [
        {
          "output_type": "execute_result",
          "data": {
            "text/plain": [
              "<tf.Tensor: shape=(2, 1, 1, 1), dtype=float32, numpy=\n",
              "array([[[[0.]]],\n",
              "\n",
              "\n",
              "       [[[0.]]]], dtype=float32)>"
            ]
          },
          "metadata": {},
          "execution_count": 57
        }
      ]
    },
    {
      "cell_type": "code",
      "source": [
        "#somelist\n",
        "somelist[:1]"
      ],
      "metadata": {
        "colab": {
          "base_uri": "https://localhost:8080/"
        },
        "id": "820aXqagwkRQ",
        "outputId": "bbb9f868-29c3-4c72-ca1d-a792f84c2aca"
      },
      "execution_count": null,
      "outputs": [
        {
          "output_type": "execute_result",
          "data": {
            "text/plain": [
              "[2]"
            ]
          },
          "metadata": {},
          "execution_count": 56
        }
      ]
    },
    {
      "cell_type": "code",
      "source": [
        "# Create a rank two tensor\n",
        "\n",
        "rank_2 = tf.zeros(shape=[2,2])\n",
        "# rank_4 = tf.zeros(shape=[2,3,4,5])\n",
        "rank_2"
      ],
      "metadata": {
        "colab": {
          "base_uri": "https://localhost:8080/"
        },
        "id": "3msVrV4HxYEL",
        "outputId": "98220c2d-c23f-488b-b43f-303120f7a356"
      },
      "execution_count": null,
      "outputs": [
        {
          "output_type": "execute_result",
          "data": {
            "text/plain": [
              "<tf.Tensor: shape=(2, 2), dtype=float32, numpy=\n",
              "array([[0., 0.],\n",
              "       [0., 0.]], dtype=float32)>"
            ]
          },
          "metadata": {},
          "execution_count": 55
        }
      ]
    },
    {
      "cell_type": "code",
      "source": [
        "rank_two = tf.constant([[10,7],\n",
        "                         [11,13]])\n",
        "rank_two"
      ],
      "metadata": {
        "id": "Re7UrRApx77G",
        "colab": {
          "base_uri": "https://localhost:8080/"
        },
        "outputId": "aa4d1374-206c-4b45-afe0-f716b852f1ac"
      },
      "execution_count": null,
      "outputs": [
        {
          "output_type": "execute_result",
          "data": {
            "text/plain": [
              "<tf.Tensor: shape=(2, 2), dtype=int32, numpy=\n",
              "array([[10,  7],\n",
              "       [11, 13]], dtype=int32)>"
            ]
          },
          "metadata": {},
          "execution_count": 54
        }
      ]
    },
    {
      "cell_type": "code",
      "source": [
        "# get last item\n",
        "rank_two[:,:-1]"
      ],
      "metadata": {
        "id": "tDweh3cayH65",
        "colab": {
          "base_uri": "https://localhost:8080/"
        },
        "outputId": "0e09a0bf-3f7f-42e3-b805-e48a8606f6ea"
      },
      "execution_count": null,
      "outputs": [
        {
          "output_type": "execute_result",
          "data": {
            "text/plain": [
              "<tf.Tensor: shape=(2, 1), dtype=int32, numpy=\n",
              "array([[10],\n",
              "       [11]], dtype=int32)>"
            ]
          },
          "metadata": {},
          "execution_count": 58
        }
      ]
    },
    {
      "cell_type": "code",
      "source": [
        "somelist[:-1]"
      ],
      "metadata": {
        "id": "baMyU1g0yTG1",
        "colab": {
          "base_uri": "https://localhost:8080/"
        },
        "outputId": "d5927624-9948-4e19-c67b-ea54a4b4b9f4"
      },
      "execution_count": null,
      "outputs": [
        {
          "output_type": "execute_result",
          "data": {
            "text/plain": [
              "[2, 3, 4]"
            ]
          },
          "metadata": {},
          "execution_count": 52
        }
      ]
    },
    {
      "cell_type": "code",
      "source": [
        "# Add in extra dimetions to our rank_two tensor = rank_3 tensor\n",
        "rank_3 = rank_two[...,tf.newaxis]\n",
        "rank_3"
      ],
      "metadata": {
        "id": "pM1vCZeFyn7G",
        "colab": {
          "base_uri": "https://localhost:8080/"
        },
        "outputId": "040609f8-1248-4108-f0d6-ca721d2217a4"
      },
      "execution_count": null,
      "outputs": [
        {
          "output_type": "execute_result",
          "data": {
            "text/plain": [
              "<tf.Tensor: shape=(2, 2, 1), dtype=int32, numpy=\n",
              "array([[[10],\n",
              "        [ 7]],\n",
              "\n",
              "       [[11],\n",
              "        [13]]], dtype=int32)>"
            ]
          },
          "metadata": {},
          "execution_count": 60
        }
      ]
    },
    {
      "cell_type": "code",
      "source": [
        "# Alternative to tf.newaxis\n",
        "tf.expand_dims(rank_2,axis=1) # -1 means expand the final axis"
      ],
      "metadata": {
        "id": "buMLMdUPze0G",
        "colab": {
          "base_uri": "https://localhost:8080/"
        },
        "outputId": "30cde47c-edbf-49e9-fc4a-b4612aef3747"
      },
      "execution_count": null,
      "outputs": [
        {
          "output_type": "execute_result",
          "data": {
            "text/plain": [
              "<tf.Tensor: shape=(2, 1, 2), dtype=float32, numpy=\n",
              "array([[[0., 0.]],\n",
              "\n",
              "       [[0., 0.]]], dtype=float32)>"
            ]
          },
          "metadata": {},
          "execution_count": 59
        }
      ]
    },
    {
      "cell_type": "code",
      "source": [
        "rank_two"
      ],
      "metadata": {
        "id": "J53A52OT2jD8",
        "colab": {
          "base_uri": "https://localhost:8080/"
        },
        "outputId": "d7063b72-b6f8-4dca-f69b-5763214efe04"
      },
      "execution_count": null,
      "outputs": [
        {
          "output_type": "execute_result",
          "data": {
            "text/plain": [
              "<tf.Tensor: shape=(2, 2), dtype=int32, numpy=\n",
              "array([[10,  7],\n",
              "       [11, 13]], dtype=int32)>"
            ]
          },
          "metadata": {},
          "execution_count": 65
        }
      ]
    },
    {
      "cell_type": "code",
      "source": [
        "rank_two"
      ],
      "metadata": {
        "id": "YI2y98VTzfBX",
        "colab": {
          "base_uri": "https://localhost:8080/"
        },
        "outputId": "b08fb2e6-b933-48ce-d63d-a8a63de2b766"
      },
      "execution_count": null,
      "outputs": [
        {
          "output_type": "execute_result",
          "data": {
            "text/plain": [
              "<tf.Tensor: shape=(2, 2), dtype=int32, numpy=\n",
              "array([[10,  7],\n",
              "       [11, 13]], dtype=int32)>"
            ]
          },
          "metadata": {},
          "execution_count": 64
        }
      ]
    },
    {
      "cell_type": "code",
      "source": [
        "# practice\n",
        "\n",
        "rank_1 = tf.constant([[1,2,3,1,3,4,5,3,6,7],\n",
        "                      [1,2,3,4,5,6,7,89,9,10]])\n",
        "\n",
        "\n",
        "# need to create a new var in order to see the difference\n",
        "rank_11 = tf.expand_dims(rank_1,axis=1)\n",
        "rank_10 = rank_1[...,tf.newaxis]\n",
        "rank_1, rank_11"
      ],
      "metadata": {
        "colab": {
          "base_uri": "https://localhost:8080/"
        },
        "id": "SEEZ15rV2D26",
        "outputId": "ffbc93a0-abab-4ad6-9e8e-c5bf676252ff"
      },
      "execution_count": null,
      "outputs": [
        {
          "output_type": "execute_result",
          "data": {
            "text/plain": [
              "(<tf.Tensor: shape=(2, 10), dtype=int32, numpy=\n",
              " array([[ 1,  2,  3,  1,  3,  4,  5,  3,  6,  7],\n",
              "        [ 1,  2,  3,  4,  5,  6,  7, 89,  9, 10]], dtype=int32)>,\n",
              " <tf.Tensor: shape=(2, 1, 10), dtype=int32, numpy=\n",
              " array([[[ 1,  2,  3,  1,  3,  4,  5,  3,  6,  7]],\n",
              " \n",
              "        [[ 1,  2,  3,  4,  5,  6,  7, 89,  9, 10]]], dtype=int32)>)"
            ]
          },
          "metadata": {},
          "execution_count": 63
        }
      ]
    },
    {
      "cell_type": "code",
      "source": [
        "print(rank_11.shape)\n",
        "print(rank_11.ndim)\n",
        "print(rank_11.dtype)\n",
        "print(tf.size(rank_11).numpy())"
      ],
      "metadata": {
        "id": "JJ25Wo8i3RTu",
        "colab": {
          "base_uri": "https://localhost:8080/"
        },
        "outputId": "6b41bbeb-51ad-4f96-b128-7b5fa4951e0e"
      },
      "execution_count": null,
      "outputs": [
        {
          "output_type": "stream",
          "name": "stdout",
          "text": [
            "(2, 1, 10)\n",
            "3\n",
            "<dtype: 'int32'>\n",
            "20\n"
          ]
        }
      ]
    },
    {
      "cell_type": "code",
      "source": [
        "print(\"Datatype of every elementL\", rank_4.dtype)\n",
        "print(\"Number of dimensins (rank):\", rank_4.ndim)\n",
        "print(\"Shape of tensor: \", rank_4.shape)\n",
        "print(\"Elements along zero access: \", rank_4.shape[0])\n",
        "print(\"elements along the last access: \", rank_4.shape[-1])\n",
        "print(\"Total number of elements in our tensor:\", tf.size(rank_4))\n",
        "print(\"Total number of elements in our tensor:\", tf.size(rank_4).numpy())"
      ],
      "metadata": {
        "id": "WdwsCE-83fIl",
        "colab": {
          "base_uri": "https://localhost:8080/"
        },
        "outputId": "97af2254-eb8e-426c-e256-06cbaa07f9b8"
      },
      "execution_count": null,
      "outputs": [
        {
          "output_type": "stream",
          "name": "stdout",
          "text": [
            "Datatype of every elementL <dtype: 'float32'>\n",
            "Number of dimensins (rank): 4\n",
            "Shape of tensor:  (2, 3, 4, 5)\n",
            "Elements along zero access:  2\n",
            "elements along the last access:  5\n",
            "Total number of elements in our tensor: tf.Tensor(120, shape=(), dtype=int32)\n",
            "Total number of elements in our tensor: 120\n"
          ]
        }
      ]
    },
    {
      "cell_type": "markdown",
      "source": [
        "### Manipulating tensors (tensor operations)\n",
        "\n",
        "you can add values to a tensor suing the addtion operator\n",
        "\n",
        "+, -, *, /"
      ],
      "metadata": {
        "id": "QHzW7Gh-0H7H"
      }
    },
    {
      "cell_type": "code",
      "source": [
        "tensor = tf.constant([[10,7],\n",
        "                      [3,4]])\n",
        "tensor_double = tensor + 20\n",
        "tensor,tensor_double"
      ],
      "metadata": {
        "colab": {
          "base_uri": "https://localhost:8080/"
        },
        "id": "1HWsCa8-6_4b",
        "outputId": "d3852f1f-18b1-4486-9c68-741ac485c060"
      },
      "execution_count": null,
      "outputs": [
        {
          "output_type": "execute_result",
          "data": {
            "text/plain": [
              "(<tf.Tensor: shape=(2, 2), dtype=int32, numpy=\n",
              " array([[10,  7],\n",
              "        [ 3,  4]], dtype=int32)>, <tf.Tensor: shape=(2, 2), dtype=int32, numpy=\n",
              " array([[30, 27],\n",
              "        [23, 24]], dtype=int32)>)"
            ]
          },
          "metadata": {},
          "execution_count": 71
        }
      ]
    },
    {
      "cell_type": "code",
      "source": [
        "# multiplacation\n",
        "\n",
        "tensor * 10"
      ],
      "metadata": {
        "colab": {
          "base_uri": "https://localhost:8080/"
        },
        "id": "mxeu7JhU7jC8",
        "outputId": "9f340281-1458-4024-af1e-bdac6e24d550"
      },
      "execution_count": null,
      "outputs": [
        {
          "output_type": "execute_result",
          "data": {
            "text/plain": [
              "<tf.Tensor: shape=(3, 2, 3), dtype=int32, numpy=\n",
              "array([[[ 10,  20,  30],\n",
              "        [ 40,  50,  60]],\n",
              "\n",
              "       [[ 70,  80,  90],\n",
              "        [100, 110, 120]],\n",
              "\n",
              "       [[130, 140, 150],\n",
              "        [160, 170, 180]]], dtype=int32)>"
            ]
          },
          "metadata": {},
          "execution_count": 70
        }
      ]
    },
    {
      "cell_type": "code",
      "source": [
        "# subtraction\n",
        "\n",
        "tensor - 10"
      ],
      "metadata": {
        "colab": {
          "base_uri": "https://localhost:8080/"
        },
        "id": "MnOlD_rK7pO4",
        "outputId": "7e2e3259-4180-4e60-d367-0a47e34fd2fd"
      },
      "execution_count": null,
      "outputs": [
        {
          "output_type": "execute_result",
          "data": {
            "text/plain": [
              "<tf.Tensor: shape=(3, 2, 3), dtype=int32, numpy=\n",
              "array([[[-9, -8, -7],\n",
              "        [-6, -5, -4]],\n",
              "\n",
              "       [[-3, -2, -1],\n",
              "        [ 0,  1,  2]],\n",
              "\n",
              "       [[ 3,  4,  5],\n",
              "        [ 6,  7,  8]]], dtype=int32)>"
            ]
          },
          "metadata": {},
          "execution_count": 69
        }
      ]
    },
    {
      "cell_type": "code",
      "source": [
        "# We can use the tensor flow built in function to\n",
        "# this is much faster than its counterpart tensor * 10\n",
        "tf.multiply(tensor,10)"
      ],
      "metadata": {
        "colab": {
          "base_uri": "https://localhost:8080/"
        },
        "id": "peg57Ors7umz",
        "outputId": "ec48b7ec-a2b2-4773-9854-44ea2cc3d6b1"
      },
      "execution_count": null,
      "outputs": [
        {
          "output_type": "execute_result",
          "data": {
            "text/plain": [
              "<tf.Tensor: shape=(3, 2, 3), dtype=int32, numpy=\n",
              "array([[[ 10,  20,  30],\n",
              "        [ 40,  50,  60]],\n",
              "\n",
              "       [[ 70,  80,  90],\n",
              "        [100, 110, 120]],\n",
              "\n",
              "       [[130, 140, 150],\n",
              "        [160, 170, 180]]], dtype=int32)>"
            ]
          },
          "metadata": {},
          "execution_count": 68
        }
      ]
    },
    {
      "cell_type": "code",
      "source": [
        "# tf.add(tensor,10)\n",
        "# tf.subtract(tensor,100)\n",
        "tf.divide(tensor,1000)"
      ],
      "metadata": {
        "colab": {
          "base_uri": "https://localhost:8080/"
        },
        "id": "kcCkjRgE8I6Z",
        "outputId": "a52d859e-b372-4c7b-de12-a595c2bb596e"
      },
      "execution_count": null,
      "outputs": [
        {
          "output_type": "execute_result",
          "data": {
            "text/plain": [
              "<tf.Tensor: shape=(3, 2, 3), dtype=float64, numpy=\n",
              "array([[[0.001, 0.002, 0.003],\n",
              "        [0.004, 0.005, 0.006]],\n",
              "\n",
              "       [[0.007, 0.008, 0.009],\n",
              "        [0.01 , 0.011, 0.012]],\n",
              "\n",
              "       [[0.013, 0.014, 0.015],\n",
              "        [0.016, 0.017, 0.018]]])>"
            ]
          },
          "metadata": {},
          "execution_count": 67
        }
      ]
    },
    {
      "cell_type": "markdown",
      "source": [
        "### Matrix Multiplcation\n",
        "\n",
        "In mahcine learning, matrix multiplcaton is one of the most comon tensor operations\n",
        "\n",
        "There are two rules\n",
        "1. inner dimensions must match the row2\n",
        "2. the result matrix has the shape of the inner dimension\n"
      ],
      "metadata": {
        "id": "ToWvoryD8qle"
      }
    },
    {
      "cell_type": "code",
      "source": [
        "print(tensor)\n",
        "tf.matmul(tensor,tensor)"
      ],
      "metadata": {
        "colab": {
          "base_uri": "https://localhost:8080/"
        },
        "id": "xGyzh4a08t_9",
        "outputId": "7393830a-eba4-4490-8e6d-8c4ee13f7b2d"
      },
      "execution_count": null,
      "outputs": [
        {
          "output_type": "stream",
          "name": "stdout",
          "text": [
            "tf.Tensor(\n",
            "[[10  7]\n",
            " [ 3  4]], shape=(2, 2), dtype=int32)\n"
          ]
        },
        {
          "output_type": "execute_result",
          "data": {
            "text/plain": [
              "<tf.Tensor: shape=(2, 2), dtype=int32, numpy=\n",
              "array([[121,  98],\n",
              "       [ 42,  37]], dtype=int32)>"
            ]
          },
          "metadata": {},
          "execution_count": 77
        }
      ]
    },
    {
      "cell_type": "code",
      "source": [
        "# matrix multipliication with pythong operator @"
      ],
      "metadata": {
        "id": "T8iUigHM-iHS"
      },
      "execution_count": null,
      "outputs": []
    },
    {
      "cell_type": "code",
      "source": [
        "# Creat a tensor of (3,2)\n",
        "\n",
        "X = tf.constant([[1,2,1],\n",
        "                [0,1,0],\n",
        "                [2,3,4]])\n",
        "Y = tf.constant([[2,5],\n",
        "                 [6,7],\n",
        "                 [1,8]])\n",
        "tf.matmul(X,Y)"
      ],
      "metadata": {
        "colab": {
          "base_uri": "https://localhost:8080/"
        },
        "id": "r8_FiYey_XXs",
        "outputId": "8c71e18c-c98e-44b0-fbde-d225933cb20e"
      },
      "execution_count": null,
      "outputs": [
        {
          "output_type": "execute_result",
          "data": {
            "text/plain": [
              "<tf.Tensor: shape=(3, 2), dtype=int32, numpy=\n",
              "array([[15, 27],\n",
              "       [ 6,  7],\n",
              "       [26, 63]], dtype=int32)>"
            ]
          },
          "metadata": {},
          "execution_count": 75
        }
      ]
    },
    {
      "cell_type": "code",
      "source": [
        "X @ Y"
      ],
      "metadata": {
        "colab": {
          "base_uri": "https://localhost:8080/"
        },
        "id": "sXKCMI3sAJX2",
        "outputId": "90025032-4f81-43f1-c2ce-1a575cb23d2b"
      },
      "execution_count": null,
      "outputs": [
        {
          "output_type": "execute_result",
          "data": {
            "text/plain": [
              "<tf.Tensor: shape=(3, 2), dtype=int32, numpy=\n",
              "array([[15, 27],\n",
              "       [ 6,  7],\n",
              "       [26, 63]], dtype=int32)>"
            ]
          },
          "metadata": {},
          "execution_count": 78
        }
      ]
    },
    {
      "cell_type": "code",
      "source": [
        "## https://www.mathsisfun.com/algebra/matrix-introduction.html\n",
        "## https://www.mathsisfun.com/algebra/matrix-multiplying.html"
      ],
      "metadata": {
        "id": "nBI3UlBHAWJn"
      },
      "execution_count": null,
      "outputs": []
    },
    {
      "cell_type": "code",
      "source": [
        "# Challendge\n",
        "\n",
        "Q = tf.constant([[1,2,],\n",
        "             [3,4],\n",
        "             [5,6]])\n",
        "\n",
        "U = tf.constant([[12,13],\n",
        "                 [13,14],\n",
        "                 [15,16]])\n",
        "\n",
        "Q, U"
      ],
      "metadata": {
        "id": "Q9sblTN3Aeda",
        "colab": {
          "base_uri": "https://localhost:8080/"
        },
        "outputId": "39d6bbc3-aaa1-44dd-8644-4431b57ae10a"
      },
      "execution_count": null,
      "outputs": [
        {
          "output_type": "execute_result",
          "data": {
            "text/plain": [
              "(<tf.Tensor: shape=(3, 2), dtype=int32, numpy=\n",
              " array([[1, 2],\n",
              "        [3, 4],\n",
              "        [5, 6]], dtype=int32)>, <tf.Tensor: shape=(3, 2), dtype=int32, numpy=\n",
              " array([[12, 13],\n",
              "        [13, 14],\n",
              "        [15, 16]], dtype=int32)>)"
            ]
          },
          "metadata": {},
          "execution_count": 72
        }
      ]
    },
    {
      "cell_type": "code",
      "source": [
        "# Q @ tf.reshape(U,shape=(2,3))"
      ],
      "metadata": {
        "id": "PH6cvDDRBaPe"
      },
      "execution_count": null,
      "outputs": []
    },
    {
      "cell_type": "code",
      "source": [
        "# tf.matmul(Q, tf.reshape(U, shape=(2,3)))\n",
        "tf.reshape(Q, shape=(2,3)), U"
      ],
      "metadata": {
        "colab": {
          "base_uri": "https://localhost:8080/"
        },
        "id": "TUq3Xktr5Cgx",
        "outputId": "5e0d3ccf-47b4-4077-afa1-29d2f714f490"
      },
      "execution_count": null,
      "outputs": [
        {
          "output_type": "execute_result",
          "data": {
            "text/plain": [
              "(<tf.Tensor: shape=(2, 3), dtype=int32, numpy=\n",
              " array([[1, 2, 3],\n",
              "        [4, 5, 6]], dtype=int32)>,\n",
              " <tf.Tensor: shape=(3, 2), dtype=int32, numpy=\n",
              " array([[12, 13],\n",
              "        [13, 14],\n",
              "        [15, 16]], dtype=int32)>)"
            ]
          },
          "metadata": {},
          "execution_count": 79
        }
      ]
    },
    {
      "cell_type": "markdown",
      "source": [
        "### The dot product\n",
        "\n",
        "Matrix muliplication is also referred to as the dot product\n",
        "\n",
        "you can perform matrix muliplication using:\n",
        "\n",
        "* t.matmul()\n",
        "* tf.tensordot()"
      ],
      "metadata": {
        "id": "uWR5PSnY8enH"
      }
    },
    {
      "cell_type": "code",
      "source": [
        "X = tf.constant([\n",
        "                 [1,2],\n",
        "                 [3,4],\n",
        "                 [5,6]\n",
        "])\n",
        "Y = tf.constant([\n",
        "                 [10,11],\n",
        "                 [12,13],\n",
        "                 [14,15]\n",
        "])\n",
        "X,Y"
      ],
      "metadata": {
        "colab": {
          "base_uri": "https://localhost:8080/"
        },
        "id": "buXxBwZ89Aeg",
        "outputId": "3e618bec-2285-44f0-a35b-b245a6c46172"
      },
      "execution_count": null,
      "outputs": [
        {
          "output_type": "execute_result",
          "data": {
            "text/plain": [
              "(<tf.Tensor: shape=(3, 2), dtype=int32, numpy=\n",
              " array([[1, 2],\n",
              "        [3, 4],\n",
              "        [5, 6]], dtype=int32)>, <tf.Tensor: shape=(3, 2), dtype=int32, numpy=\n",
              " array([[10, 11],\n",
              "        [12, 13],\n",
              "        [14, 15]], dtype=int32)>)"
            ]
          },
          "metadata": {},
          "execution_count": 85
        }
      ]
    },
    {
      "cell_type": "code",
      "source": [
        "# perform the dot product on X and Y requires X and Y to be transposed\n",
        "\n",
        "tf.tensordot(tf.transpose(X),Y,axes=1)\n",
        "# tf.matmul(X,Y)"
      ],
      "metadata": {
        "colab": {
          "base_uri": "https://localhost:8080/"
        },
        "id": "X4ep7xD98yBU",
        "outputId": "8188f68b-13a8-4e37-9452-91ef186ba166"
      },
      "execution_count": null,
      "outputs": [
        {
          "output_type": "execute_result",
          "data": {
            "text/plain": [
              "<tf.Tensor: shape=(3, 2), dtype=int32, numpy=\n",
              "array([[ 4, 21],\n",
              "       [13, 41],\n",
              "       [ 6, 37]], dtype=int32)>"
            ]
          },
          "metadata": {},
          "execution_count": 84
        }
      ]
    },
    {
      "cell_type": "code",
      "source": [
        "# Perform matrix muliplication between X and Y (reansposed)\n",
        "tf.matmul(X, tf.transpose(Y))"
      ],
      "metadata": {
        "id": "INnWlG3t_BcD",
        "colab": {
          "base_uri": "https://localhost:8080/"
        },
        "outputId": "fa2f8768-b46e-4f57-c296-40792367ba82"
      },
      "execution_count": null,
      "outputs": [
        {
          "output_type": "execute_result",
          "data": {
            "text/plain": [
              "<tf.Tensor: shape=(3, 3), dtype=int32, numpy=\n",
              "array([[ 32,  38,  44],\n",
              "       [ 74,  88, 102],\n",
              "       [116, 138, 160]], dtype=int32)>"
            ]
          },
          "metadata": {},
          "execution_count": 86
        }
      ]
    },
    {
      "cell_type": "code",
      "source": [
        "# Perform matrix muliplication between X and Y\n",
        "tf.matmul(X,tf.reshape(Y,shape=(2,3)))"
      ],
      "metadata": {
        "colab": {
          "base_uri": "https://localhost:8080/"
        },
        "id": "_rrFnAhj_KaU",
        "outputId": "ea4610fe-6616-4b78-cf4c-41ca95a5fd1c"
      },
      "execution_count": null,
      "outputs": [
        {
          "output_type": "execute_result",
          "data": {
            "text/plain": [
              "<tf.Tensor: shape=(3, 3), dtype=int32, numpy=\n",
              "array([[ 36,  39,  42],\n",
              "       [ 82,  89,  96],\n",
              "       [128, 139, 150]], dtype=int32)>"
            ]
          },
          "metadata": {},
          "execution_count": 87
        }
      ]
    },
    {
      "cell_type": "code",
      "source": [
        "# check the values of Y, reshape Y, and transpose Y\n",
        "print(\"Normal Y:\")\n",
        "print(Y, \"/n\" )\n",
        "print(\"Y reshaped to (2,3)\")\n",
        "print(tf.reshape(Y, shape=(2,3)), \"/n\")\n",
        "print(\"Y transposed:\")\n",
        "print(tf.transpose(Y))"
      ],
      "metadata": {
        "colab": {
          "base_uri": "https://localhost:8080/"
        },
        "id": "EcsV0x6k_a3p",
        "outputId": "52c6642f-3d33-46e0-d894-f1e962bec194"
      },
      "execution_count": null,
      "outputs": [
        {
          "output_type": "stream",
          "name": "stdout",
          "text": [
            "Normal Y:\n",
            "tf.Tensor(\n",
            "[[2 5]\n",
            " [6 7]\n",
            " [1 8]], shape=(3, 2), dtype=int32) /n\n",
            "Y reshaped to (2,3)\n",
            "tf.Tensor(\n",
            "[[2 5 6]\n",
            " [7 1 8]], shape=(2, 3), dtype=int32) /n\n",
            "Y transposed:\n",
            "tf.Tensor(\n",
            "[[2 6 1]\n",
            " [5 7 8]], shape=(2, 3), dtype=int32)\n"
          ]
        }
      ]
    },
    {
      "cell_type": "markdown",
      "source": [
        "###  Changing the datatype\n",
        "\n"
      ],
      "metadata": {
        "id": "q78VdGWzBR_u"
      }
    },
    {
      "cell_type": "code",
      "source": [
        "# Create a new tensor with a default daattype (float32)\n",
        "\n",
        "B = tf.constant([1.7,7.4])\n",
        "B.dtype"
      ],
      "metadata": {
        "colab": {
          "base_uri": "https://localhost:8080/"
        },
        "id": "qhr6s9UHBWtD",
        "outputId": "ae12b6df-88f5-454e-e8e0-84d8d0adeb8c"
      },
      "execution_count": null,
      "outputs": [
        {
          "output_type": "execute_result",
          "data": {
            "text/plain": [
              "tf.float32"
            ]
          },
          "metadata": {},
          "execution_count": 91
        }
      ]
    },
    {
      "cell_type": "code",
      "source": [
        "C = tf.constant([7,10])\n",
        "C.dtype"
      ],
      "metadata": {
        "colab": {
          "base_uri": "https://localhost:8080/"
        },
        "id": "XWtyB6MkBjtS",
        "outputId": "7cb5b165-542e-4e1d-c7db-74e42cfd93e3"
      },
      "execution_count": null,
      "outputs": [
        {
          "output_type": "execute_result",
          "data": {
            "text/plain": [
              "tf.int32"
            ]
          },
          "metadata": {},
          "execution_count": 90
        }
      ]
    },
    {
      "cell_type": "code",
      "source": [
        "# change from flota32 to float16 (reduced percision)\n",
        "\n",
        "D = tf.cast(B,dtype=tf.float16)\n",
        "D.dtype"
      ],
      "metadata": {
        "colab": {
          "base_uri": "https://localhost:8080/"
        },
        "id": "Ozs9MyakBoan",
        "outputId": "c7566e91-d801-4de9-88a7-b41bb60f4e4f"
      },
      "execution_count": null,
      "outputs": [
        {
          "output_type": "execute_result",
          "data": {
            "text/plain": [
              "tf.float16"
            ]
          },
          "metadata": {},
          "execution_count": 89
        }
      ]
    },
    {
      "cell_type": "code",
      "source": [
        "# Change from int32 to float32\n",
        "\n",
        "E = tf.cast(C, dtype=tf.float32)\n",
        "E,E.dtype\n"
      ],
      "metadata": {
        "colab": {
          "base_uri": "https://localhost:8080/"
        },
        "id": "oGHB3Yz0CuSC",
        "outputId": "e72303b3-2ace-4ab3-d073-4d374a1d1542"
      },
      "execution_count": null,
      "outputs": [
        {
          "output_type": "execute_result",
          "data": {
            "text/plain": [
              "(<tf.Tensor: shape=(2,), dtype=float32, numpy=array([ 7., 10.], dtype=float32)>,\n",
              " tf.float32)"
            ]
          },
          "metadata": {},
          "execution_count": 92
        }
      ]
    },
    {
      "cell_type": "markdown",
      "source": [
        "### Aggeration Tensors\n",
        "\n",
        "condeseing them from multiple vlaues down to smaller values"
      ],
      "metadata": {
        "id": "wGRRUUJeDGXu"
      }
    },
    {
      "cell_type": "code",
      "source": [
        "# Getting the absolute vlaues\n",
        "\n",
        "D = tf.constant([-7,-10],\n",
        "                [4,10])\n",
        "D"
      ],
      "metadata": {
        "id": "KHJYe6BUDRaO",
        "colab": {
          "base_uri": "https://localhost:8080/",
          "height": 443
        },
        "outputId": "6e994aa9-9dcd-415b-a402-3d94fdb9aef8"
      },
      "execution_count": null,
      "outputs": [
        {
          "output_type": "error",
          "ename": "TypeError",
          "evalue": "ignored",
          "traceback": [
            "\u001b[0;31m---------------------------------------------------------------------------\u001b[0m",
            "\u001b[0;31mAttributeError\u001b[0m                            Traceback (most recent call last)",
            "\u001b[0;32m/usr/local/lib/python3.7/dist-packages/tensorflow/python/framework/constant_op.py\u001b[0m in \u001b[0;36mconvert_to_eager_tensor\u001b[0;34m(value, ctx, dtype)\u001b[0m\n\u001b[1;32m     97\u001b[0m     \u001b[0;32mtry\u001b[0m\u001b[0;34m:\u001b[0m\u001b[0;34m\u001b[0m\u001b[0;34m\u001b[0m\u001b[0m\n\u001b[0;32m---> 98\u001b[0;31m       \u001b[0mdtype\u001b[0m \u001b[0;34m=\u001b[0m \u001b[0mdtype\u001b[0m\u001b[0;34m.\u001b[0m\u001b[0mas_datatype_enum\u001b[0m\u001b[0;34m\u001b[0m\u001b[0;34m\u001b[0m\u001b[0m\n\u001b[0m\u001b[1;32m     99\u001b[0m     \u001b[0;32mexcept\u001b[0m \u001b[0mAttributeError\u001b[0m\u001b[0;34m:\u001b[0m\u001b[0;34m\u001b[0m\u001b[0;34m\u001b[0m\u001b[0m\n",
            "\u001b[0;31mAttributeError\u001b[0m: 'list' object has no attribute 'as_datatype_enum'",
            "\nDuring handling of the above exception, another exception occurred:\n",
            "\u001b[0;31mTypeError\u001b[0m                                 Traceback (most recent call last)",
            "\u001b[0;32m<ipython-input-95-939b4907162c>\u001b[0m in \u001b[0;36m<module>\u001b[0;34m()\u001b[0m\n\u001b[1;32m      2\u001b[0m \u001b[0;34m\u001b[0m\u001b[0m\n\u001b[1;32m      3\u001b[0m D = tf.constant([-7,-10],\n\u001b[0;32m----> 4\u001b[0;31m                 [4,10])\n\u001b[0m\u001b[1;32m      5\u001b[0m \u001b[0mD\u001b[0m\u001b[0;34m\u001b[0m\u001b[0;34m\u001b[0m\u001b[0m\n",
            "\u001b[0;32m/usr/local/lib/python3.7/dist-packages/tensorflow/python/framework/constant_op.py\u001b[0m in \u001b[0;36mconstant\u001b[0;34m(value, dtype, shape, name)\u001b[0m\n\u001b[1;32m    266\u001b[0m   \"\"\"\n\u001b[1;32m    267\u001b[0m   return _constant_impl(value, dtype, shape, name, verify_shape=False,\n\u001b[0;32m--> 268\u001b[0;31m                         allow_broadcast=True)\n\u001b[0m\u001b[1;32m    269\u001b[0m \u001b[0;34m\u001b[0m\u001b[0m\n\u001b[1;32m    270\u001b[0m \u001b[0;34m\u001b[0m\u001b[0m\n",
            "\u001b[0;32m/usr/local/lib/python3.7/dist-packages/tensorflow/python/framework/constant_op.py\u001b[0m in \u001b[0;36m_constant_impl\u001b[0;34m(value, dtype, shape, name, verify_shape, allow_broadcast)\u001b[0m\n\u001b[1;32m    277\u001b[0m       \u001b[0;32mwith\u001b[0m \u001b[0mtrace\u001b[0m\u001b[0;34m.\u001b[0m\u001b[0mTrace\u001b[0m\u001b[0;34m(\u001b[0m\u001b[0;34m\"tf.constant\"\u001b[0m\u001b[0;34m)\u001b[0m\u001b[0;34m:\u001b[0m\u001b[0;34m\u001b[0m\u001b[0;34m\u001b[0m\u001b[0m\n\u001b[1;32m    278\u001b[0m         \u001b[0;32mreturn\u001b[0m \u001b[0m_constant_eager_impl\u001b[0m\u001b[0;34m(\u001b[0m\u001b[0mctx\u001b[0m\u001b[0;34m,\u001b[0m \u001b[0mvalue\u001b[0m\u001b[0;34m,\u001b[0m \u001b[0mdtype\u001b[0m\u001b[0;34m,\u001b[0m \u001b[0mshape\u001b[0m\u001b[0;34m,\u001b[0m \u001b[0mverify_shape\u001b[0m\u001b[0;34m)\u001b[0m\u001b[0;34m\u001b[0m\u001b[0;34m\u001b[0m\u001b[0m\n\u001b[0;32m--> 279\u001b[0;31m     \u001b[0;32mreturn\u001b[0m \u001b[0m_constant_eager_impl\u001b[0m\u001b[0;34m(\u001b[0m\u001b[0mctx\u001b[0m\u001b[0;34m,\u001b[0m \u001b[0mvalue\u001b[0m\u001b[0;34m,\u001b[0m \u001b[0mdtype\u001b[0m\u001b[0;34m,\u001b[0m \u001b[0mshape\u001b[0m\u001b[0;34m,\u001b[0m \u001b[0mverify_shape\u001b[0m\u001b[0;34m)\u001b[0m\u001b[0;34m\u001b[0m\u001b[0;34m\u001b[0m\u001b[0m\n\u001b[0m\u001b[1;32m    280\u001b[0m \u001b[0;34m\u001b[0m\u001b[0m\n\u001b[1;32m    281\u001b[0m   \u001b[0mg\u001b[0m \u001b[0;34m=\u001b[0m \u001b[0mops\u001b[0m\u001b[0;34m.\u001b[0m\u001b[0mget_default_graph\u001b[0m\u001b[0;34m(\u001b[0m\u001b[0;34m)\u001b[0m\u001b[0;34m\u001b[0m\u001b[0;34m\u001b[0m\u001b[0m\n",
            "\u001b[0;32m/usr/local/lib/python3.7/dist-packages/tensorflow/python/framework/constant_op.py\u001b[0m in \u001b[0;36m_constant_eager_impl\u001b[0;34m(ctx, value, dtype, shape, verify_shape)\u001b[0m\n\u001b[1;32m    302\u001b[0m \u001b[0;32mdef\u001b[0m \u001b[0m_constant_eager_impl\u001b[0m\u001b[0;34m(\u001b[0m\u001b[0mctx\u001b[0m\u001b[0;34m,\u001b[0m \u001b[0mvalue\u001b[0m\u001b[0;34m,\u001b[0m \u001b[0mdtype\u001b[0m\u001b[0;34m,\u001b[0m \u001b[0mshape\u001b[0m\u001b[0;34m,\u001b[0m \u001b[0mverify_shape\u001b[0m\u001b[0;34m)\u001b[0m\u001b[0;34m:\u001b[0m\u001b[0;34m\u001b[0m\u001b[0;34m\u001b[0m\u001b[0m\n\u001b[1;32m    303\u001b[0m   \u001b[0;34m\"\"\"Creates a constant on the current device.\"\"\"\u001b[0m\u001b[0;34m\u001b[0m\u001b[0;34m\u001b[0m\u001b[0m\n\u001b[0;32m--> 304\u001b[0;31m   \u001b[0mt\u001b[0m \u001b[0;34m=\u001b[0m \u001b[0mconvert_to_eager_tensor\u001b[0m\u001b[0;34m(\u001b[0m\u001b[0mvalue\u001b[0m\u001b[0;34m,\u001b[0m \u001b[0mctx\u001b[0m\u001b[0;34m,\u001b[0m \u001b[0mdtype\u001b[0m\u001b[0;34m)\u001b[0m\u001b[0;34m\u001b[0m\u001b[0;34m\u001b[0m\u001b[0m\n\u001b[0m\u001b[1;32m    305\u001b[0m   \u001b[0;32mif\u001b[0m \u001b[0mshape\u001b[0m \u001b[0;32mis\u001b[0m \u001b[0;32mNone\u001b[0m\u001b[0;34m:\u001b[0m\u001b[0;34m\u001b[0m\u001b[0;34m\u001b[0m\u001b[0m\n\u001b[1;32m    306\u001b[0m     \u001b[0;32mreturn\u001b[0m \u001b[0mt\u001b[0m\u001b[0;34m\u001b[0m\u001b[0;34m\u001b[0m\u001b[0m\n",
            "\u001b[0;32m/usr/local/lib/python3.7/dist-packages/tensorflow/python/framework/constant_op.py\u001b[0m in \u001b[0;36mconvert_to_eager_tensor\u001b[0;34m(value, ctx, dtype)\u001b[0m\n\u001b[1;32m     98\u001b[0m       \u001b[0mdtype\u001b[0m \u001b[0;34m=\u001b[0m \u001b[0mdtype\u001b[0m\u001b[0;34m.\u001b[0m\u001b[0mas_datatype_enum\u001b[0m\u001b[0;34m\u001b[0m\u001b[0;34m\u001b[0m\u001b[0m\n\u001b[1;32m     99\u001b[0m     \u001b[0;32mexcept\u001b[0m \u001b[0mAttributeError\u001b[0m\u001b[0;34m:\u001b[0m\u001b[0;34m\u001b[0m\u001b[0;34m\u001b[0m\u001b[0m\n\u001b[0;32m--> 100\u001b[0;31m       \u001b[0mdtype\u001b[0m \u001b[0;34m=\u001b[0m \u001b[0mdtypes\u001b[0m\u001b[0;34m.\u001b[0m\u001b[0mas_dtype\u001b[0m\u001b[0;34m(\u001b[0m\u001b[0mdtype\u001b[0m\u001b[0;34m)\u001b[0m\u001b[0;34m.\u001b[0m\u001b[0mas_datatype_enum\u001b[0m\u001b[0;34m\u001b[0m\u001b[0;34m\u001b[0m\u001b[0m\n\u001b[0m\u001b[1;32m    101\u001b[0m   \u001b[0mctx\u001b[0m\u001b[0;34m.\u001b[0m\u001b[0mensure_initialized\u001b[0m\u001b[0;34m(\u001b[0m\u001b[0;34m)\u001b[0m\u001b[0;34m\u001b[0m\u001b[0;34m\u001b[0m\u001b[0m\n\u001b[1;32m    102\u001b[0m   \u001b[0;32mreturn\u001b[0m \u001b[0mops\u001b[0m\u001b[0;34m.\u001b[0m\u001b[0mEagerTensor\u001b[0m\u001b[0;34m(\u001b[0m\u001b[0mvalue\u001b[0m\u001b[0;34m,\u001b[0m \u001b[0mctx\u001b[0m\u001b[0;34m.\u001b[0m\u001b[0mdevice_name\u001b[0m\u001b[0;34m,\u001b[0m \u001b[0mdtype\u001b[0m\u001b[0;34m)\u001b[0m\u001b[0;34m\u001b[0m\u001b[0;34m\u001b[0m\u001b[0m\n",
            "\u001b[0;32m/usr/local/lib/python3.7/dist-packages/tensorflow/python/framework/dtypes.py\u001b[0m in \u001b[0;36mas_dtype\u001b[0;34m(type_value)\u001b[0m\n\u001b[1;32m    719\u001b[0m     \u001b[0;32mreturn\u001b[0m \u001b[0m_INTERN_TABLE\u001b[0m\u001b[0;34m[\u001b[0m\u001b[0mtype_value\u001b[0m\u001b[0;34m.\u001b[0m\u001b[0mas_datatype_enum\u001b[0m\u001b[0;34m]\u001b[0m\u001b[0;34m\u001b[0m\u001b[0;34m\u001b[0m\u001b[0m\n\u001b[1;32m    720\u001b[0m \u001b[0;34m\u001b[0m\u001b[0m\n\u001b[0;32m--> 721\u001b[0;31m   raise TypeError(f\"Cannot convert the argument `type_value`: {type_value!r} \"\n\u001b[0m\u001b[1;32m    722\u001b[0m                   \"to a TensorFlow DType.\")\n",
            "\u001b[0;31mTypeError\u001b[0m: Cannot convert the argument `type_value`: [4, 10] to a TensorFlow DType."
          ]
        }
      ]
    },
    {
      "cell_type": "code",
      "source": [
        "# get abs vlaues - turn negatives to positives\n",
        "\n",
        "tf.abs(D)"
      ],
      "metadata": {
        "colab": {
          "base_uri": "https://localhost:8080/"
        },
        "id": "m05EB2JsEo24",
        "outputId": "dcd5cdac-0c04-4c46-e2d7-9abd97362361"
      },
      "execution_count": null,
      "outputs": [
        {
          "output_type": "execute_result",
          "data": {
            "text/plain": [
              "<tf.Tensor: shape=(24,), dtype=float16, numpy=\n",
              "array([ 1.,  2.,  3.,  4.,  5.,  6.,  7.,  8.,  9., 10., 11., 12., 13.,\n",
              "       14., 15., 16., 17., 18., 19., 20., 21., 22., 23., 24.],\n",
              "      dtype=float16)>"
            ]
          },
          "metadata": {},
          "execution_count": 93
        }
      ]
    },
    {
      "cell_type": "code",
      "source": [
        ""
      ],
      "metadata": {
        "id": "m-IMtbO1FWdv"
      },
      "execution_count": null,
      "outputs": []
    },
    {
      "cell_type": "markdown",
      "source": [
        "# Lets got through the following forms of aggerigation\n",
        "* get min\n",
        "* get max\n",
        "* get mean\n",
        "* get sum"
      ],
      "metadata": {
        "id": "4AP64ftBEzv7"
      }
    },
    {
      "cell_type": "code",
      "source": [
        "tf.reduce_mean(D)"
      ],
      "metadata": {
        "colab": {
          "base_uri": "https://localhost:8080/"
        },
        "id": "JW8dnZC4E-_9",
        "outputId": "d77d0741-01d0-4df6-8450-51cb95c47198"
      },
      "execution_count": null,
      "outputs": [
        {
          "output_type": "execute_result",
          "data": {
            "text/plain": [
              "<tf.Tensor: shape=(), dtype=float16, numpy=12.5>"
            ]
          },
          "metadata": {},
          "execution_count": 100
        }
      ]
    },
    {
      "cell_type": "code",
      "source": [
        "tf.reduce_sum(D)"
      ],
      "metadata": {
        "colab": {
          "base_uri": "https://localhost:8080/"
        },
        "id": "A1RojlCFFUzw",
        "outputId": "9c147bcc-3c15-41af-8891-49b435e6b6eb"
      },
      "execution_count": null,
      "outputs": [
        {
          "output_type": "execute_result",
          "data": {
            "text/plain": [
              "<tf.Tensor: shape=(), dtype=float16, numpy=300.0>"
            ]
          },
          "metadata": {},
          "execution_count": 99
        }
      ]
    },
    {
      "cell_type": "code",
      "source": [
        "tf.reduce_max(D)"
      ],
      "metadata": {
        "colab": {
          "base_uri": "https://localhost:8080/"
        },
        "id": "n3dFIErBFg_I",
        "outputId": "48d4a750-5d42-4fc1-f125-78f5ce3dbd6e"
      },
      "execution_count": null,
      "outputs": [
        {
          "output_type": "execute_result",
          "data": {
            "text/plain": [
              "<tf.Tensor: shape=(), dtype=float16, numpy=24.0>"
            ]
          },
          "metadata": {},
          "execution_count": 98
        }
      ]
    },
    {
      "cell_type": "code",
      "source": [
        "tf.reduce_min(D)"
      ],
      "metadata": {
        "colab": {
          "base_uri": "https://localhost:8080/"
        },
        "id": "TRZSuFe9FlRU",
        "outputId": "affca1f0-03b8-48d9-c7a0-b4c4250863f5"
      },
      "execution_count": null,
      "outputs": [
        {
          "output_type": "execute_result",
          "data": {
            "text/plain": [
              "<tf.Tensor: shape=(), dtype=float16, numpy=1.0>"
            ]
          },
          "metadata": {},
          "execution_count": 97
        }
      ]
    },
    {
      "cell_type": "code",
      "source": [
        "tf.size(D),  D.shape, D.ndim"
      ],
      "metadata": {
        "colab": {
          "base_uri": "https://localhost:8080/"
        },
        "id": "1PaZ2mrjF4TZ",
        "outputId": "6cb39565-6395-4269-ea62-31e921c72692"
      },
      "execution_count": null,
      "outputs": [
        {
          "output_type": "execute_result",
          "data": {
            "text/plain": [
              "(<tf.Tensor: shape=(), dtype=int32, numpy=24>, TensorShape([24]), 1)"
            ]
          },
          "metadata": {},
          "execution_count": 96
        }
      ]
    },
    {
      "cell_type": "markdown",
      "source": [
        "# Excerise - find the varients and standar deviation of our D tensor\n",
        "\n",
        "* varient - tensor of any fata type"
      ],
      "metadata": {
        "id": "YKIOPJUwGg-6"
      }
    },
    {
      "cell_type": "code",
      "source": [
        "# varient\n",
        "tf.data.experimental.from_variant(10,D)"
      ],
      "metadata": {
        "colab": {
          "base_uri": "https://localhost:8080/"
        },
        "id": "gVCv0gXMH0dU",
        "outputId": "f20efecd-b0db-459d-d20a-bfd55a683930"
      },
      "execution_count": null,
      "outputs": [
        {
          "output_type": "execute_result",
          "data": {
            "text/plain": [
              "<_VariantDataset element_spec=[ 1.  2.  3.  4.  5.  6.  7.  8.  9. 10. 11. 12. 13. 14. 15. 16. 17. 18.\n",
              " 19. 20. 21. 22. 23. 24.]>"
            ]
          },
          "metadata": {},
          "execution_count": 103
        }
      ]
    },
    {
      "cell_type": "code",
      "source": [
        "# Standard deviation - how disperated the data is compared to the mean\n",
        "\n",
        "#to get variance we need access to tensorflow probaility\n",
        "\n",
        "import tensorflow_probability as tfp\n",
        "\n",
        "G = tfp.stats.variance(D)\n",
        "G"
      ],
      "metadata": {
        "colab": {
          "base_uri": "https://localhost:8080/"
        },
        "id": "gbayhQEqIUzc",
        "outputId": "683f5ed1-88c6-48ca-d287-74e42da808b4"
      },
      "execution_count": null,
      "outputs": [
        {
          "output_type": "execute_result",
          "data": {
            "text/plain": [
              "<tf.Tensor: shape=(), dtype=float16, numpy=47.9>"
            ]
          },
          "metadata": {},
          "execution_count": 102
        }
      ]
    },
    {
      "cell_type": "code",
      "source": [
        "# Standard Deviation\n",
        "\n",
        "# needs to be a float\n",
        "\n",
        "tf.math.reduce_std(tf.cast(D, dtype=tf.float32))"
      ],
      "metadata": {
        "colab": {
          "base_uri": "https://localhost:8080/"
        },
        "id": "eTKSyX-UJG33",
        "outputId": "17591917-0859-4dab-ef58-f1556eb95231"
      },
      "execution_count": null,
      "outputs": [
        {
          "output_type": "execute_result",
          "data": {
            "text/plain": [
              "<tf.Tensor: shape=(), dtype=float32, numpy=6.922187>"
            ]
          },
          "metadata": {},
          "execution_count": 101
        }
      ]
    },
    {
      "cell_type": "markdown",
      "source": [
        "### TypeError - go to gocumentation and see what kinds of types they're using in the workflow"
      ],
      "metadata": {
        "id": "adg1HeLFJQ0c"
      }
    },
    {
      "cell_type": "markdown",
      "source": [
        "# Find postional, maximumu and minimum of a tensor\n",
        "- postional\n",
        "- maximumu\n",
        "- minimum"
      ],
      "metadata": {
        "id": "6taqRYxiJXrw"
      }
    },
    {
      "cell_type": "code",
      "source": [
        "H = tf.constant([\n",
        "                 [4.,5.,6.],\n",
        "                 [5.,6.,7.],\n",
        "                 [8.,9.,10.],\n",
        "                 [21.,23.,34.],\n",
        "                 [45.,46.,47.],\n",
        "                 [78.,567.,90.]\n",
        "])\n",
        "tf.reduce_max(H), tf.reduce_min(H), tf.math.reduce_variance(H)"
      ],
      "metadata": {
        "colab": {
          "base_uri": "https://localhost:8080/"
        },
        "id": "ws2xOP0XJsj3",
        "outputId": "b8afb025-5c84-4b79-a272-e1eb27eee343"
      },
      "execution_count": null,
      "outputs": [
        {
          "output_type": "execute_result",
          "data": {
            "text/plain": [
              "(<tf.Tensor: shape=(), dtype=float32, numpy=567.0>,\n",
              " <tf.Tensor: shape=(), dtype=float32, numpy=4.0>,\n",
              " <tf.Tensor: shape=(), dtype=float32, numpy=15988.694>)"
            ]
          },
          "metadata": {},
          "execution_count": 104
        }
      ]
    },
    {
      "cell_type": "code",
      "source": [
        "### Find the \n",
        "H, tf.math.argmax(H),tf.math.argmin(H)"
      ],
      "metadata": {
        "colab": {
          "base_uri": "https://localhost:8080/"
        },
        "id": "ZlI1aVVzOe03",
        "outputId": "f254f7f7-2689-4bac-dbba-30a27d5f3b06"
      },
      "execution_count": null,
      "outputs": [
        {
          "output_type": "execute_result",
          "data": {
            "text/plain": [
              "(<tf.Tensor: shape=(6, 3), dtype=float32, numpy=\n",
              " array([[  4.,   5.,   6.],\n",
              "        [  5.,   6.,   7.],\n",
              "        [  8.,   9.,  10.],\n",
              "        [ 21.,  23.,  34.],\n",
              "        [ 45.,  46.,  47.],\n",
              "        [ 78., 567.,  90.]], dtype=float32)>,\n",
              " <tf.Tensor: shape=(3,), dtype=int64, numpy=array([5, 5, 5])>,\n",
              " <tf.Tensor: shape=(3,), dtype=int64, numpy=array([0, 0, 0])>)"
            ]
          },
          "metadata": {},
          "execution_count": 106
        }
      ]
    },
    {
      "cell_type": "code",
      "source": [
        "# Create a new tensor for finding posMax and posMin\n",
        "tf.random.set_seed(42)\n",
        "F = tf.random.uniform(shape=[50])\n",
        "F"
      ],
      "metadata": {
        "colab": {
          "base_uri": "https://localhost:8080/"
        },
        "id": "ZNqv8TN7Oi6t",
        "outputId": "4700013a-9b5b-4b3f-ec69-2e3c77d56757"
      },
      "execution_count": null,
      "outputs": [
        {
          "output_type": "execute_result",
          "data": {
            "text/plain": [
              "<tf.Tensor: shape=(50,), dtype=float32, numpy=\n",
              "array([0.6645621 , 0.44100678, 0.3528825 , 0.46448255, 0.03366041,\n",
              "       0.68467236, 0.74011743, 0.8724445 , 0.22632635, 0.22319686,\n",
              "       0.3103881 , 0.7223358 , 0.13318717, 0.5480639 , 0.5746088 ,\n",
              "       0.8996835 , 0.00946367, 0.5212307 , 0.6345445 , 0.1993283 ,\n",
              "       0.72942245, 0.54583454, 0.10756552, 0.6767061 , 0.6602763 ,\n",
              "       0.33695042, 0.60141766, 0.21062577, 0.8527372 , 0.44062173,\n",
              "       0.9485276 , 0.23752594, 0.81179297, 0.5263394 , 0.494308  ,\n",
              "       0.21612847, 0.8457197 , 0.8718841 , 0.3083862 , 0.6868038 ,\n",
              "       0.23764038, 0.7817228 , 0.9671384 , 0.06870162, 0.79873943,\n",
              "       0.66028714, 0.5871513 , 0.16461694, 0.7381023 , 0.32054043],\n",
              "      dtype=float32)>"
            ]
          },
          "metadata": {},
          "execution_count": 105
        }
      ]
    },
    {
      "cell_type": "code",
      "source": [
        "# find the postional maxmini - agmax\n",
        "tf.argmax(F), tf.argmax(F).numpy()"
      ],
      "metadata": {
        "colab": {
          "base_uri": "https://localhost:8080/"
        },
        "id": "Kiv87UagQtTG",
        "outputId": "bdc7d4c8-eeeb-4c59-fc79-a3232f05ac8f"
      },
      "execution_count": null,
      "outputs": [
        {
          "output_type": "execute_result",
          "data": {
            "text/plain": [
              "(<tf.Tensor: shape=(), dtype=int64, numpy=42>, 42)"
            ]
          },
          "metadata": {},
          "execution_count": 112
        }
      ]
    },
    {
      "cell_type": "code",
      "source": [
        "# index on our largest value position\n",
        "F[tf.argmax(F)], F[tf.argmax(F)].numpy() "
      ],
      "metadata": {
        "colab": {
          "base_uri": "https://localhost:8080/"
        },
        "id": "58uhCr8YQ8_3",
        "outputId": "0ab3dc79-245b-437f-f579-3db6cb12781f"
      },
      "execution_count": null,
      "outputs": [
        {
          "output_type": "execute_result",
          "data": {
            "text/plain": [
              "(<tf.Tensor: shape=(), dtype=float32, numpy=0.9671384>, 0.9671384)"
            ]
          },
          "metadata": {},
          "execution_count": 111
        }
      ]
    },
    {
      "cell_type": "code",
      "source": [
        "# find the max value F\n",
        "\n",
        "tf.reduce_max(F), tf.reduce_max(F).numpy()"
      ],
      "metadata": {
        "colab": {
          "base_uri": "https://localhost:8080/"
        },
        "id": "rU2XMKsyRX1s",
        "outputId": "cba0f243-5bbb-4e7d-f8e9-1ca03d00ad3f"
      },
      "execution_count": null,
      "outputs": [
        {
          "output_type": "execute_result",
          "data": {
            "text/plain": [
              "(<tf.Tensor: shape=(), dtype=float32, numpy=0.9671384>, 0.9671384)"
            ]
          },
          "metadata": {},
          "execution_count": 110
        }
      ]
    },
    {
      "cell_type": "code",
      "source": [
        "# check for equality\n",
        "F[tf.argmax(F)] == tf.reduce_max(F)"
      ],
      "metadata": {
        "colab": {
          "base_uri": "https://localhost:8080/"
        },
        "id": "uOIinCdYRl28",
        "outputId": "f6ecb641-f526-4489-b8ea-0eab41ca70e1"
      },
      "execution_count": null,
      "outputs": [
        {
          "output_type": "execute_result",
          "data": {
            "text/plain": [
              "<tf.Tensor: shape=(), dtype=bool, numpy=True>"
            ]
          },
          "metadata": {},
          "execution_count": 109
        }
      ]
    },
    {
      "cell_type": "code",
      "source": [
        "# Find the posMin\n",
        "tf.argmin(F), tf.argmin(F).numpy()"
      ],
      "metadata": {
        "colab": {
          "base_uri": "https://localhost:8080/"
        },
        "id": "RaO2HruwR1-j",
        "outputId": "2a5d3bf3-0a1f-4862-b393-46ac25e46a9a"
      },
      "execution_count": null,
      "outputs": [
        {
          "output_type": "execute_result",
          "data": {
            "text/plain": [
              "(<tf.Tensor: shape=(), dtype=int64, numpy=16>, 16)"
            ]
          },
          "metadata": {},
          "execution_count": 108
        }
      ]
    },
    {
      "cell_type": "code",
      "source": [
        "# find min of posMin index\n",
        "F[tf.argmin(F)], F[tf.argmin(F)].numpy()"
      ],
      "metadata": {
        "colab": {
          "base_uri": "https://localhost:8080/"
        },
        "id": "5Z6FP3xtR-oa",
        "outputId": "b212f5ae-672e-47ea-bf30-f2cf7899a9b1"
      },
      "execution_count": null,
      "outputs": [
        {
          "output_type": "execute_result",
          "data": {
            "text/plain": [
              "(<tf.Tensor: shape=(), dtype=float32, numpy=0.009463668>, 0.009463668)"
            ]
          },
          "metadata": {},
          "execution_count": 107
        }
      ]
    },
    {
      "cell_type": "markdown",
      "source": [
        "### Practice"
      ],
      "metadata": {
        "id": "nzyNbhEUSXof"
      }
    },
    {
      "cell_type": "code",
      "source": [
        "T = tf.random.Generator.from_seed(50)\n",
        "T.normal(shape=(2, 3, 3, 10))\n"
      ],
      "metadata": {
        "id": "acH4FTCnSZMG"
      },
      "execution_count": null,
      "outputs": []
    },
    {
      "cell_type": "markdown",
      "source": [
        "### Squeezing a tensor (removing all the single dimensions)"
      ],
      "metadata": {
        "id": "R2DvI1HNTQwR"
      }
    },
    {
      "cell_type": "code",
      "source": [
        "tf.random.set_seed(42)\n",
        "G = tf.constant(tf.random.uniform(shape=[50]),shape=(1,1,1,50))\n",
        "G"
      ],
      "metadata": {
        "id": "haWWv-akTVkz"
      },
      "execution_count": null,
      "outputs": []
    },
    {
      "cell_type": "code",
      "source": [
        "G.shape"
      ],
      "metadata": {
        "colab": {
          "base_uri": "https://localhost:8080/"
        },
        "id": "9t6md3TATxBD",
        "outputId": "a9029a59-c933-4ea1-805c-82a9ca19caab"
      },
      "execution_count": null,
      "outputs": [
        {
          "output_type": "execute_result",
          "data": {
            "text/plain": [
              "TensorShape([])"
            ]
          },
          "metadata": {},
          "execution_count": 116
        }
      ]
    },
    {
      "cell_type": "code",
      "source": [
        "G_squeezed = tf.squeeze(G)\n",
        "G_squeezed, G_squeezed.shape\n"
      ],
      "metadata": {
        "id": "v33XeJDuTyv3"
      },
      "execution_count": null,
      "outputs": []
    },
    {
      "cell_type": "markdown",
      "source": [
        "### ont-hot encoding tensors\n",
        "- create a list of indicies"
      ],
      "metadata": {
        "id": "kWEf7rWWUG1j"
      }
    },
    {
      "cell_type": "code",
      "source": [
        "some_list = [0,1,2,3]\n",
        "\n",
        "# one hot encode\n",
        "tf.one_hot(some_list, depth=4)"
      ],
      "metadata": {
        "colab": {
          "base_uri": "https://localhost:8080/"
        },
        "id": "iF15jEM1XMZU",
        "outputId": "5039fee0-bfc9-48ce-a811-b1b227cb7a67"
      },
      "execution_count": null,
      "outputs": [
        {
          "output_type": "execute_result",
          "data": {
            "text/plain": [
              "<tf.Tensor: shape=(4, 4), dtype=float32, numpy=\n",
              "array([[1., 0., 0., 0.],\n",
              "       [0., 1., 0., 0.],\n",
              "       [0., 0., 1., 0.],\n",
              "       [0., 0., 0., 1.]], dtype=float32)>"
            ]
          },
          "metadata": {},
          "execution_count": 114
        }
      ]
    },
    {
      "cell_type": "code",
      "source": [
        "# speicifty custom values one hot encoding\n",
        "\n",
        "tf.one_hot(some_list, depth=4,on_value=2 ,off_value=0)"
      ],
      "metadata": {
        "id": "wMNNXd3ZX2gW"
      },
      "execution_count": null,
      "outputs": []
    },
    {
      "cell_type": "markdown",
      "source": [
        "### squareing, log, squareroot\n"
      ],
      "metadata": {
        "id": "ByDeGTIjht0N"
      }
    },
    {
      "cell_type": "code",
      "source": [
        "# c\n",
        "H = tf.range(1,10)\n",
        "H\n"
      ],
      "metadata": {
        "colab": {
          "base_uri": "https://localhost:8080/"
        },
        "id": "hwuQfnLFhyJP",
        "outputId": "11ddedf7-ecea-419d-948a-39f8eec0328e"
      },
      "execution_count": null,
      "outputs": [
        {
          "output_type": "execute_result",
          "data": {
            "text/plain": [
              "<tf.Tensor: shape=(9,), dtype=int32, numpy=array([1, 2, 3, 4, 5, 6, 7, 8, 9], dtype=int32)>"
            ]
          },
          "metadata": {},
          "execution_count": 120
        }
      ]
    },
    {
      "cell_type": "code",
      "source": [
        "# square\n",
        "tf.square(H)"
      ],
      "metadata": {
        "colab": {
          "base_uri": "https://localhost:8080/"
        },
        "id": "2KTiOutqh5le",
        "outputId": "c156397a-9147-4ab0-9109-38de3f7a70f4"
      },
      "execution_count": null,
      "outputs": [
        {
          "output_type": "execute_result",
          "data": {
            "text/plain": [
              "<tf.Tensor: shape=(9,), dtype=int32, numpy=array([ 1,  4,  9, 16, 25, 36, 49, 64, 81], dtype=int32)>"
            ]
          },
          "metadata": {},
          "execution_count": 121
        }
      ]
    },
    {
      "cell_type": "code",
      "source": [
        "# square root\n",
        "\n",
        "tf.sqrt(tf.cast(tf.square(H), dtype=tf.float32))\n",
        "\n"
      ],
      "metadata": {
        "colab": {
          "base_uri": "https://localhost:8080/"
        },
        "id": "w2QtdOb8h894",
        "outputId": "17a5893c-f2ef-43e8-abb4-af6836f4a61a"
      },
      "execution_count": null,
      "outputs": [
        {
          "output_type": "execute_result",
          "data": {
            "text/plain": [
              "<tf.Tensor: shape=(9,), dtype=float32, numpy=\n",
              "array([0.99999994, 1.9999999 , 2.9999998 , 3.9999998 , 5.        ,\n",
              "       5.9999995 , 6.9999995 , 7.9999995 , 9.        ], dtype=float32)>"
            ]
          },
          "metadata": {},
          "execution_count": 127
        }
      ]
    },
    {
      "cell_type": "code",
      "source": [
        "# log\n",
        "# tf.math.log(H)\n",
        "\n",
        "tf.cast(H,dtype=tf.float32)"
      ],
      "metadata": {
        "colab": {
          "base_uri": "https://localhost:8080/"
        },
        "id": "lYrKVWdNiiYc",
        "outputId": "7ce030c1-ef7e-4d07-903f-4d4d8da5c19f"
      },
      "execution_count": null,
      "outputs": [
        {
          "output_type": "execute_result",
          "data": {
            "text/plain": [
              "<tf.Tensor: shape=(9,), dtype=float32, numpy=array([1., 2., 3., 4., 5., 6., 7., 8., 9.], dtype=float32)>"
            ]
          },
          "metadata": {},
          "execution_count": 131
        }
      ]
    },
    {
      "cell_type": "markdown",
      "source": [
        "### Excersice"
      ],
      "metadata": {
        "id": "QK8bwasbjFqI"
      }
    },
    {
      "cell_type": "code",
      "source": [
        "# 1. \n",
        "\n",
        "H1 = tf.range(101)\n",
        "\n",
        "\n",
        "# tf.floor(H1).numpy()\n",
        "\n",
        "tf.floor(tf.cast(H1,dtype=tf.float32)).numpy()\n",
        "\n"
      ],
      "metadata": {
        "colab": {
          "base_uri": "https://localhost:8080/"
        },
        "id": "xqsbF7bajHYv",
        "outputId": "f95643c4-aebb-4942-a8ee-b3459fdce3d0"
      },
      "execution_count": null,
      "outputs": [
        {
          "output_type": "execute_result",
          "data": {
            "text/plain": [
              "array([  0.,   1.,   2.,   3.,   4.,   5.,   6.,   7.,   8.,   9.,  10.,\n",
              "        11.,  12.,  13.,  14.,  15.,  16.,  17.,  18.,  19.,  20.,  21.,\n",
              "        22.,  23.,  24.,  25.,  26.,  27.,  28.,  29.,  30.,  31.,  32.,\n",
              "        33.,  34.,  35.,  36.,  37.,  38.,  39.,  40.,  41.,  42.,  43.,\n",
              "        44.,  45.,  46.,  47.,  48.,  49.,  50.,  51.,  52.,  53.,  54.,\n",
              "        55.,  56.,  57.,  58.,  59.,  60.,  61.,  62.,  63.,  64.,  65.,\n",
              "        66.,  67.,  68.,  69.,  70.,  71.,  72.,  73.,  74.,  75.,  76.,\n",
              "        77.,  78.,  79.,  80.,  81.,  82.,  83.,  84.,  85.,  86.,  87.,\n",
              "        88.,  89.,  90.,  91.,  92.,  93.,  94.,  95.,  96.,  97.,  98.,\n",
              "        99., 100.], dtype=float32)"
            ]
          },
          "metadata": {},
          "execution_count": 141
        }
      ]
    },
    {
      "cell_type": "code",
      "source": [
        "x = tf.constant([1.3324, -1.5, 5.555, -2.532, 0.99, float(\"inf\")])\n",
        "# x\n",
        "\n",
        "tf.floor(x).numpy()"
      ],
      "metadata": {
        "colab": {
          "base_uri": "https://localhost:8080/"
        },
        "id": "aeWRh-fhj92t",
        "outputId": "f7d75e02-46ba-448a-86fb-dcdbe9ea5328"
      },
      "execution_count": null,
      "outputs": [
        {
          "output_type": "execute_result",
          "data": {
            "text/plain": [
              "array([ 1., -2.,  5., -3.,  0., inf], dtype=float32)"
            ]
          },
          "metadata": {},
          "execution_count": 146
        }
      ]
    },
    {
      "cell_type": "code",
      "source": [
        "# 2. expo\n",
        "H2 = tf.range(5)\n",
        "tf.math.exp(tf.cast(H2,dtype=tf.float32))"
      ],
      "metadata": {
        "colab": {
          "base_uri": "https://localhost:8080/"
        },
        "id": "DySgI5NEj-UL",
        "outputId": "7e94095d-4d09-44da-9233-d89c9d1770f3"
      },
      "execution_count": null,
      "outputs": [
        {
          "output_type": "execute_result",
          "data": {
            "text/plain": [
              "<tf.Tensor: shape=(5,), dtype=float32, numpy=\n",
              "array([ 1.       ,  2.7182817,  7.389056 , 20.085537 , 54.59815  ],\n",
              "      dtype=float32)>"
            ]
          },
          "metadata": {},
          "execution_count": 152
        }
      ]
    },
    {
      "cell_type": "code",
      "source": [
        "# 3. equal\n",
        "y = tf.constant([2,3,4])\n",
        "x = tf.constant([2,0,4])\n",
        "tf.equal(y,x)"
      ],
      "metadata": {
        "colab": {
          "base_uri": "https://localhost:8080/"
        },
        "id": "E_lX2eSmkhgs",
        "outputId": "bac3d368-33f0-480b-d9db-1b2587f46ac5"
      },
      "execution_count": null,
      "outputs": [
        {
          "output_type": "execute_result",
          "data": {
            "text/plain": [
              "<tf.Tensor: shape=(3,), dtype=bool, numpy=array([ True, False,  True])>"
            ]
          },
          "metadata": {},
          "execution_count": 154
        }
      ]
    },
    {
      "cell_type": "code",
      "source": [
        "### Tensors and numpy\n",
        "\n",
        "J = tf.constant(np.array([3.,7.,8.]))\n",
        "J1 = tf.constant([3.,7.,8.])\n",
        "J, J1"
      ],
      "metadata": {
        "colab": {
          "base_uri": "https://localhost:8080/"
        },
        "id": "dMBOC0v6ldxV",
        "outputId": "fc700c05-ed42-43e1-d8d1-e5219d2c11ae"
      },
      "execution_count": null,
      "outputs": [
        {
          "output_type": "execute_result",
          "data": {
            "text/plain": [
              "(<tf.Tensor: shape=(3,), dtype=float64, numpy=array([3., 7., 8.])>,\n",
              " <tf.Tensor: shape=(3,), dtype=float32, numpy=array([3., 7., 8.], dtype=float32)>)"
            ]
          },
          "metadata": {},
          "execution_count": 157
        }
      ]
    },
    {
      "cell_type": "code",
      "source": [
        "# np.array(J)\n",
        "np.array(J1),type(np.array(J1)),type(np.array(J))"
      ],
      "metadata": {
        "colab": {
          "base_uri": "https://localhost:8080/"
        },
        "id": "JiSCnj81nWSN",
        "outputId": "a98fac78-91a6-4bf7-fff4-6e4e85d7263a"
      },
      "execution_count": null,
      "outputs": [
        {
          "output_type": "execute_result",
          "data": {
            "text/plain": [
              "(array([3., 7., 8.], dtype=float32), numpy.ndarray, numpy.ndarray)"
            ]
          },
          "metadata": {},
          "execution_count": 163
        }
      ]
    },
    {
      "cell_type": "code",
      "source": [
        "# J.numpy(), type(J.numpy())\n",
        "# J = tf.constant([3.])\n",
        "# J.numpy()[0]"
      ],
      "metadata": {
        "colab": {
          "base_uri": "https://localhost:8080/"
        },
        "id": "A27Ode3BnuSO",
        "outputId": "b24f1cf9-a581-462e-d1a4-375d567f92c0"
      },
      "execution_count": null,
      "outputs": [
        {
          "output_type": "execute_result",
          "data": {
            "text/plain": [
              "3.0"
            ]
          },
          "metadata": {},
          "execution_count": 171
        }
      ]
    },
    {
      "cell_type": "markdown",
      "source": [
        "# default types of each slightly different\n",
        "\n",
        "### 🔑 creating a tensor in numpy vrs. tensor will create a different data type. Also tensors can be run on a GPU and TPU for faster computing"
      ],
      "metadata": {
        "id": "gdDLyV7voINo"
      }
    },
    {
      "cell_type": "code",
      "source": [
        "numpy_J = tf.constant(np.array([3.,7.,10.]))\n",
        "tensor_J = tf.constant([3.,7.,10.])\n",
        "numpy_J.dtype, tensor_J.dtype"
      ],
      "metadata": {
        "colab": {
          "base_uri": "https://localhost:8080/"
        },
        "id": "1IL2yI5LoLC6",
        "outputId": "b84ed50c-ecab-4484-8198-1682c3b42219"
      },
      "execution_count": null,
      "outputs": [
        {
          "output_type": "execute_result",
          "data": {
            "text/plain": [
              "(tf.float64, tf.float32)"
            ]
          },
          "metadata": {},
          "execution_count": 179
        }
      ]
    },
    {
      "cell_type": "markdown",
      "source": [
        "# Finding acces to GPU\n",
        "fastest\n",
        "1. TPU\n",
        "2. GPU\n",
        "3. CPU\n",
        "\n",
        "🔑 Note: If you hve acces to a CUDA enabled GPU, tensorflow will automatically use it whenever possible"
      ],
      "metadata": {
        "id": "KyYf-yE_pKSV"
      }
    },
    {
      "cell_type": "code",
      "source": [
        "tf.config.list_physical_devices(\"GPU\")"
      ],
      "metadata": {
        "colab": {
          "base_uri": "https://localhost:8080/"
        },
        "id": "Xxxh1iRyp7S0",
        "outputId": "eabcc9cb-9a37-4ca2-e1ab-7c67fba3b6ce"
      },
      "execution_count": null,
      "outputs": [
        {
          "output_type": "execute_result",
          "data": {
            "text/plain": [
              "[PhysicalDevice(name='/physical_device:GPU:0', device_type='GPU')]"
            ]
          },
          "metadata": {},
          "execution_count": 4
        }
      ]
    },
    {
      "cell_type": "code",
      "source": [
        "!nvidia-smi"
      ],
      "metadata": {
        "colab": {
          "base_uri": "https://localhost:8080/"
        },
        "id": "li7VH4EBsIGa",
        "outputId": "79a581fd-7648-4e10-dd28-dc900f00e368"
      },
      "execution_count": null,
      "outputs": [
        {
          "output_type": "stream",
          "name": "stdout",
          "text": [
            "Mon May 16 16:26:15 2022       \n",
            "+-----------------------------------------------------------------------------+\n",
            "| NVIDIA-SMI 460.32.03    Driver Version: 460.32.03    CUDA Version: 11.2     |\n",
            "|-------------------------------+----------------------+----------------------+\n",
            "| GPU  Name        Persistence-M| Bus-Id        Disp.A | Volatile Uncorr. ECC |\n",
            "| Fan  Temp  Perf  Pwr:Usage/Cap|         Memory-Usage | GPU-Util  Compute M. |\n",
            "|                               |                      |               MIG M. |\n",
            "|===============================+======================+======================|\n",
            "|   0  Tesla T4            Off  | 00000000:00:04.0 Off |                    0 |\n",
            "| N/A   55C    P8    10W /  70W |      3MiB / 15109MiB |      0%      Default |\n",
            "|                               |                      |                  N/A |\n",
            "+-------------------------------+----------------------+----------------------+\n",
            "                                                                               \n",
            "+-----------------------------------------------------------------------------+\n",
            "| Processes:                                                                  |\n",
            "|  GPU   GI   CI        PID   Type   Process name                  GPU Memory |\n",
            "|        ID   ID                                                   Usage      |\n",
            "|=============================================================================|\n",
            "|  No running processes found                                                 |\n",
            "+-----------------------------------------------------------------------------+\n"
          ]
        }
      ]
    },
    {
      "cell_type": "code",
      "source": [
        ""
      ],
      "metadata": {
        "id": "F7Bf7Y_4sfHr"
      },
      "execution_count": null,
      "outputs": []
    }
  ]
}
